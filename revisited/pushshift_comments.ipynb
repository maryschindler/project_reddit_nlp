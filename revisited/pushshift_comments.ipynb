{
 "cells": [
  {
   "cell_type": "code",
   "execution_count": 1,
   "id": "66945401-4d55-43bb-bb2b-446a3f1086b8",
   "metadata": {},
   "outputs": [],
   "source": [
    "import requests\n",
    "import pandas as pd\n",
    "import time\n",
    "import datetime\n",
    "\n",
    "#https://stackoverflow.com/questions/49188960/how-to-show-all-columns-names-on-a-large-pandas-dataframe\n",
    "pd.set_option('display.max_columns', None)"
   ]
  },
  {
   "cell_type": "code",
   "execution_count": 2,
   "id": "0fc913b5-2005-4f8c-b717-554c7c253039",
   "metadata": {},
   "outputs": [],
   "source": [
    "#additional sources: (for readme or w/e)\n",
    "#https://www.epochconverter.com/"
   ]
  },
  {
   "cell_type": "code",
   "execution_count": 3,
   "id": "0ba52926-cb41-433a-98c7-d59be1ae2eef",
   "metadata": {},
   "outputs": [],
   "source": [
    "#duilding starting dataframe for first subreddit:\n",
    "subreddit = 'dndnext'\n",
    "start_date = '1635356099'\n",
    "kind = 'comment'\n",
    "\n",
    "stem = 'https://api.pushshift.io'\n",
    "slug = f'/reddit/search/{kind}/?subreddit={subreddit}&before={start_date}&size=100'"
   ]
  },
  {
   "cell_type": "code",
   "execution_count": 4,
   "id": "f3f46e85-e136-4114-94be-35b6c2f8795b",
   "metadata": {},
   "outputs": [],
   "source": [
    "res = requests.get(stem + slug)"
   ]
  },
  {
   "cell_type": "code",
   "execution_count": 5,
   "id": "d03cd4fa-04f0-43e8-b64d-97dbbdc6482c",
   "metadata": {},
   "outputs": [
    {
     "data": {
      "text/plain": [
       "<Response [200]>"
      ]
     },
     "execution_count": 5,
     "metadata": {},
     "output_type": "execute_result"
    }
   ],
   "source": [
    "res"
   ]
  },
  {
   "cell_type": "code",
   "execution_count": 6,
   "id": "c1d6d10b-33a0-4846-9a9d-e867d3c06cec",
   "metadata": {},
   "outputs": [],
   "source": [
    "data = res.json()"
   ]
  },
  {
   "cell_type": "code",
   "execution_count": 7,
   "id": "164d7c33-deb3-4d48-9873-5aee4872651d",
   "metadata": {},
   "outputs": [],
   "source": [
    "#data['data']\n",
    "#comments"
   ]
  },
  {
   "cell_type": "code",
   "execution_count": 8,
   "id": "65d92409-c67c-4622-a105-cbef19aee677",
   "metadata": {},
   "outputs": [
    {
     "data": {
      "text/plain": [
       "{'all_awardings': [],\n",
       " 'archived': False,\n",
       " 'associated_award': None,\n",
       " 'author': 'DMPatrick',\n",
       " 'author_flair_background_color': None,\n",
       " 'author_flair_css_class': None,\n",
       " 'author_flair_richtext': [],\n",
       " 'author_flair_template_id': None,\n",
       " 'author_flair_text': None,\n",
       " 'author_flair_text_color': None,\n",
       " 'author_flair_type': 'text',\n",
       " 'author_fullname': 't2_bs9xa6ae',\n",
       " 'author_patreon_flair': False,\n",
       " 'author_premium': False,\n",
       " 'body': \"Well first of all, if that's the only way you find enjoyment then that's okay. You can play all of your characters that way if that's how you have fun.\\n\\nBut a few thoughts and suggestions that might help... \\n\\nFill out the traits, bonds, flaws, and ideals on your character sheets and refer back to them regularly.  If you're playing a character who shoots first and asks questions later, write that down! It helps to have some writen words to keep you in character.\\n\\nPerhaps a moot suggestion but try using a voice or accent. This will help mentally separate the character you're acting as from the real person you are. \\n\\nYou mention not wanting to feel evil a few times. But evil is subjective\",\n",
       " 'body_sha1': '9296445dca5ae5b78926eb3a4d38941aa5274274',\n",
       " 'can_gild': True,\n",
       " 'collapsed': False,\n",
       " 'collapsed_because_crowd_control': None,\n",
       " 'collapsed_reason': None,\n",
       " 'collapsed_reason_code': None,\n",
       " 'comment_type': None,\n",
       " 'controversiality': 0,\n",
       " 'created_utc': 1635356097,\n",
       " 'distinguished': None,\n",
       " 'gilded': 0,\n",
       " 'gildings': {},\n",
       " 'id': 'hi9t6c3',\n",
       " 'is_submitter': False,\n",
       " 'link_id': 't3_qh1tvh',\n",
       " 'locked': False,\n",
       " 'no_follow': True,\n",
       " 'parent_id': 't3_qh1tvh',\n",
       " 'permalink': '/r/dndnext/comments/qh1tvh/how_do_people_have_fun_rping_something_other_than/hi9t6c3/',\n",
       " 'retrieved_utc': 1635356114,\n",
       " 'score': 1,\n",
       " 'score_hidden': False,\n",
       " 'send_replies': True,\n",
       " 'stickied': False,\n",
       " 'subreddit': 'dndnext',\n",
       " 'subreddit_id': 't5_2vbgl',\n",
       " 'subreddit_name_prefixed': 'r/dndnext',\n",
       " 'subreddit_type': 'public',\n",
       " 'top_awarded_type': None,\n",
       " 'total_awards_received': 0,\n",
       " 'treatment_tags': [],\n",
       " 'unrepliable_reason': None}"
      ]
     },
     "execution_count": 8,
     "metadata": {},
     "output_type": "execute_result"
    }
   ],
   "source": [
    "#commented out for length\n",
    "data['data'][0]"
   ]
  },
  {
   "cell_type": "code",
   "execution_count": 9,
   "id": "16275549-1e5c-44e2-9d47-b0d79d870be5",
   "metadata": {},
   "outputs": [],
   "source": [
    "posts = []\n",
    "\n",
    "for post in data['data']:\n",
    "    post_dict = {\n",
    "        'subreddit': post['subreddit'],\n",
    "        'author': post['author'],\n",
    "        'body': post['body'],\n",
    "        'created_utc': post['created_utc']\n",
    "                }\n",
    "    posts.append(post_dict)"
   ]
  },
  {
   "cell_type": "code",
   "execution_count": 10,
   "id": "ef3543fa-2e44-4bd4-a9c3-53d881297911",
   "metadata": {},
   "outputs": [
    {
     "data": {
      "text/html": [
       "<div>\n",
       "<style scoped>\n",
       "    .dataframe tbody tr th:only-of-type {\n",
       "        vertical-align: middle;\n",
       "    }\n",
       "\n",
       "    .dataframe tbody tr th {\n",
       "        vertical-align: top;\n",
       "    }\n",
       "\n",
       "    .dataframe thead th {\n",
       "        text-align: right;\n",
       "    }\n",
       "</style>\n",
       "<table border=\"1\" class=\"dataframe\">\n",
       "  <thead>\n",
       "    <tr style=\"text-align: right;\">\n",
       "      <th></th>\n",
       "      <th>subreddit</th>\n",
       "      <th>author</th>\n",
       "      <th>body</th>\n",
       "      <th>created_utc</th>\n",
       "    </tr>\n",
       "  </thead>\n",
       "  <tbody>\n",
       "    <tr>\n",
       "      <th>0</th>\n",
       "      <td>dndnext</td>\n",
       "      <td>DMPatrick</td>\n",
       "      <td>Well first of all, if that's the only way you ...</td>\n",
       "      <td>1635356097</td>\n",
       "    </tr>\n",
       "    <tr>\n",
       "      <th>1</th>\n",
       "      <td>dndnext</td>\n",
       "      <td>whitetempest521</td>\n",
       "      <td>The feat is where almost the entire power budg...</td>\n",
       "      <td>1635356068</td>\n",
       "    </tr>\n",
       "    <tr>\n",
       "      <th>2</th>\n",
       "      <td>dndnext</td>\n",
       "      <td>Th1nker26</td>\n",
       "      <td>Oh I don't think it's a problem. I thought the...</td>\n",
       "      <td>1635356043</td>\n",
       "    </tr>\n",
       "  </tbody>\n",
       "</table>\n",
       "</div>"
      ],
      "text/plain": [
       "  subreddit           author  \\\n",
       "0   dndnext        DMPatrick   \n",
       "1   dndnext  whitetempest521   \n",
       "2   dndnext        Th1nker26   \n",
       "\n",
       "                                                body  created_utc  \n",
       "0  Well first of all, if that's the only way you ...   1635356097  \n",
       "1  The feat is where almost the entire power budg...   1635356068  \n",
       "2  Oh I don't think it's a problem. I thought the...   1635356043  "
      ]
     },
     "execution_count": 10,
     "metadata": {},
     "output_type": "execute_result"
    }
   ],
   "source": [
    "pd.DataFrame(posts).head(3)"
   ]
  },
  {
   "cell_type": "code",
   "execution_count": 11,
   "id": "5b289cd4-9850-4355-bd22-4fb2f00a6595",
   "metadata": {},
   "outputs": [
    {
     "data": {
      "text/plain": [
       "1635355058"
      ]
     },
     "execution_count": 11,
     "metadata": {},
     "output_type": "execute_result"
    }
   ],
   "source": [
    "pd.DataFrame(posts)['created_utc'].min()"
   ]
  },
  {
   "cell_type": "code",
   "execution_count": 12,
   "id": "b67ba2c5-3f23-4323-9c3c-35593ec2a7d8",
   "metadata": {},
   "outputs": [],
   "source": [
    "pd.DataFrame(posts).to_csv('./csv_files/dndnext_comm.csv', index = False)"
   ]
  },
  {
   "cell_type": "markdown",
   "id": "fdea32e0-ce6c-4bcd-bf4d-aa2888d69e5e",
   "metadata": {},
   "source": [
    "- Manually building dataframe for second subreddit:"
   ]
  },
  {
   "cell_type": "code",
   "execution_count": 13,
   "id": "2f06699a-284b-44de-979c-368d2ea3a9e9",
   "metadata": {},
   "outputs": [],
   "source": [
    "subreddit_1 = 'dmacademy'\n",
    "\n",
    "stem = 'https://api.pushshift.io'\n",
    "slug_1 = f'/reddit/search/{kind}/?subreddit={subreddit_1}&before={start_date}&size=100'"
   ]
  },
  {
   "cell_type": "code",
   "execution_count": 14,
   "id": "826c3e46-7bd7-4f0a-95b1-124f9916d96c",
   "metadata": {},
   "outputs": [],
   "source": [
    "res_1 = requests.get(stem + slug_1)"
   ]
  },
  {
   "cell_type": "code",
   "execution_count": 15,
   "id": "17798a69-3f84-49d7-8293-eaa1b08b5e33",
   "metadata": {},
   "outputs": [
    {
     "data": {
      "text/plain": [
       "<Response [200]>"
      ]
     },
     "execution_count": 15,
     "metadata": {},
     "output_type": "execute_result"
    }
   ],
   "source": [
    "res_1"
   ]
  },
  {
   "cell_type": "code",
   "execution_count": 16,
   "id": "56ba2956-ed2d-4fa0-951e-4155cc9fd69b",
   "metadata": {},
   "outputs": [],
   "source": [
    "data_1 = res_1.json()"
   ]
  },
  {
   "cell_type": "code",
   "execution_count": 17,
   "id": "796a8389-0112-494e-a8b7-e16bfeebf32c",
   "metadata": {},
   "outputs": [],
   "source": [
    "posts_1 = []\n",
    "\n",
    "for post in data_1['data']:\n",
    "    post_dict = {\n",
    "        'subreddit': post['subreddit'],\n",
    "        'author': post['author'],\n",
    "        'body': post['body'],\n",
    "        'created_utc': post['created_utc']\n",
    "                }\n",
    "    posts_1.append(post_dict)"
   ]
  },
  {
   "cell_type": "code",
   "execution_count": 18,
   "id": "865eae37-a74b-495f-a15a-d5172bf16852",
   "metadata": {},
   "outputs": [
    {
     "data": {
      "text/html": [
       "<div>\n",
       "<style scoped>\n",
       "    .dataframe tbody tr th:only-of-type {\n",
       "        vertical-align: middle;\n",
       "    }\n",
       "\n",
       "    .dataframe tbody tr th {\n",
       "        vertical-align: top;\n",
       "    }\n",
       "\n",
       "    .dataframe thead th {\n",
       "        text-align: right;\n",
       "    }\n",
       "</style>\n",
       "<table border=\"1\" class=\"dataframe\">\n",
       "  <thead>\n",
       "    <tr style=\"text-align: right;\">\n",
       "      <th></th>\n",
       "      <th>subreddit</th>\n",
       "      <th>author</th>\n",
       "      <th>body</th>\n",
       "      <th>created_utc</th>\n",
       "    </tr>\n",
       "  </thead>\n",
       "  <tbody>\n",
       "    <tr>\n",
       "      <th>0</th>\n",
       "      <td>DMAcademy</td>\n",
       "      <td>jordanleveledup</td>\n",
       "      <td>Just give him a fever. Sweats. Upset stomach. ...</td>\n",
       "      <td>1635356025</td>\n",
       "    </tr>\n",
       "    <tr>\n",
       "      <th>1</th>\n",
       "      <td>DMAcademy</td>\n",
       "      <td>YUSOBADDOG</td>\n",
       "      <td>Firstly, obviously your not that good at impro...</td>\n",
       "      <td>1635355991</td>\n",
       "    </tr>\n",
       "    <tr>\n",
       "      <th>2</th>\n",
       "      <td>DMAcademy</td>\n",
       "      <td>FlexterityCheck</td>\n",
       "      <td>&amp;gt;You can use their interest in the town to ...</td>\n",
       "      <td>1635355937</td>\n",
       "    </tr>\n",
       "  </tbody>\n",
       "</table>\n",
       "</div>"
      ],
      "text/plain": [
       "   subreddit           author  \\\n",
       "0  DMAcademy  jordanleveledup   \n",
       "1  DMAcademy       YUSOBADDOG   \n",
       "2  DMAcademy  FlexterityCheck   \n",
       "\n",
       "                                                body  created_utc  \n",
       "0  Just give him a fever. Sweats. Upset stomach. ...   1635356025  \n",
       "1  Firstly, obviously your not that good at impro...   1635355991  \n",
       "2  &gt;You can use their interest in the town to ...   1635355937  "
      ]
     },
     "execution_count": 18,
     "metadata": {},
     "output_type": "execute_result"
    }
   ],
   "source": [
    "pd.DataFrame(posts_1).head(3)"
   ]
  },
  {
   "cell_type": "code",
   "execution_count": 19,
   "id": "314e3eb8-8c4d-4429-9ce5-210fb8523d67",
   "metadata": {},
   "outputs": [
    {
     "data": {
      "text/plain": [
       "1635353637"
      ]
     },
     "execution_count": 19,
     "metadata": {},
     "output_type": "execute_result"
    }
   ],
   "source": [
    "pd.DataFrame(posts_1)['created_utc'].min()"
   ]
  },
  {
   "cell_type": "code",
   "execution_count": 20,
   "id": "8a656d18-2d72-4fc6-a467-c29e7f707ea9",
   "metadata": {},
   "outputs": [],
   "source": [
    "pd.DataFrame(posts_1).to_csv('./csv_files/dmacademy_comm.csv', index = False)"
   ]
  },
  {
   "cell_type": "code",
   "execution_count": 21,
   "id": "2a782c51-d734-4f5e-85df-ad134e6fbdda",
   "metadata": {},
   "outputs": [],
   "source": [
    "#copied from Terri John\n",
    "def pushshift(subreddit, kind = 'comment', start_date = '1635356099',\n",
    "              iters = 10, og_csv = './csv_files/dndnext.csv'):\n",
    "    \n",
    "    for scrape in range(1,iters + 1):\n",
    "        date = pd.read_csv(og_csv)['created_utc'].min()\n",
    "        stem = 'https://api.pushshift.io'\n",
    "        slug = f'/reddit/search/{kind}/?subreddit={subreddit}&before={date}&size=100&selftext=true'\n",
    "        \n",
    "        res = requests.get(stem + slug) \n",
    "        \n",
    "        if res.status_code != 200:\n",
    "            print(f'url: {stem + slug} returned {res.status_code}')\n",
    "            \n",
    "        else:\n",
    "            data = res.json()\n",
    "            posts = []\n",
    "\n",
    "            for post in data['data']:\n",
    "                post_dict = {\n",
    "                    'subreddit' : post['subreddit'],\n",
    "                    'body' : post['body'],\n",
    "                    'author' : post['author'],\n",
    "                    'created_utc' : post['created_utc']\n",
    "                }\n",
    "                posts.append(post_dict)\n",
    "                \n",
    "                \n",
    "            og_df = pd.read_csv(og_csv)\n",
    "            temp_df = pd.DataFrame(posts)\n",
    "            \n",
    "            new_df = pd.concat([og_df,temp_df])\n",
    "            \n",
    "            new_df.to_csv(og_csv,index=False)\n",
    "            \n",
    "            print('Scrape success!')\n",
    "            print(f'Original data was {og_df.shape[0]} rows')\n",
    "            print(f'New data is {new_df.shape[0]} rows!')\n",
    "            print(new_df['created_utc'].min())\n",
    "            time.sleep(3)"
   ]
  },
  {
   "cell_type": "code",
   "execution_count": 27,
   "id": "330eaaef-2ef7-4f10-b535-daf751719e88",
   "metadata": {},
   "outputs": [],
   "source": [
    "#pushshift(subreddit = 'dndnext', kind = 'comment', start_date = '1635356099',\n",
    "#              iters = 199, og_csv = './csv_files/dndnext_comm.csv')\n",
    "\n",
    "#commented out for length"
   ]
  },
  {
   "cell_type": "code",
   "execution_count": 28,
   "id": "9c525f10-1539-445a-8f29-59c77523454a",
   "metadata": {},
   "outputs": [],
   "source": [
    "#pushshift(subreddit = 'dmacademy', kind = 'comment', start_date = '1635356099',\n",
    "#          iters = 199, og_csv = './csv_files/dmacademy_comm.csv')\n",
    "\n",
    "#commented out for length"
   ]
  },
  {
   "cell_type": "code",
   "execution_count": 24,
   "id": "b9f25cbe-f509-4be7-87d2-901184f2f7fb",
   "metadata": {},
   "outputs": [
    {
     "data": {
      "text/html": [
       "<div>\n",
       "<style scoped>\n",
       "    .dataframe tbody tr th:only-of-type {\n",
       "        vertical-align: middle;\n",
       "    }\n",
       "\n",
       "    .dataframe tbody tr th {\n",
       "        vertical-align: top;\n",
       "    }\n",
       "\n",
       "    .dataframe thead th {\n",
       "        text-align: right;\n",
       "    }\n",
       "</style>\n",
       "<table border=\"1\" class=\"dataframe\">\n",
       "  <thead>\n",
       "    <tr style=\"text-align: right;\">\n",
       "      <th></th>\n",
       "      <th>subreddit</th>\n",
       "      <th>author</th>\n",
       "      <th>body</th>\n",
       "      <th>created_utc</th>\n",
       "    </tr>\n",
       "  </thead>\n",
       "  <tbody>\n",
       "    <tr>\n",
       "      <th>0</th>\n",
       "      <td>dndnext</td>\n",
       "      <td>DMPatrick</td>\n",
       "      <td>Well first of all, if that's the only way you ...</td>\n",
       "      <td>1635356097</td>\n",
       "    </tr>\n",
       "    <tr>\n",
       "      <th>1</th>\n",
       "      <td>dndnext</td>\n",
       "      <td>whitetempest521</td>\n",
       "      <td>The feat is where almost the entire power budg...</td>\n",
       "      <td>1635356068</td>\n",
       "    </tr>\n",
       "    <tr>\n",
       "      <th>2</th>\n",
       "      <td>dndnext</td>\n",
       "      <td>Th1nker26</td>\n",
       "      <td>Oh I don't think it's a problem. I thought the...</td>\n",
       "      <td>1635356043</td>\n",
       "    </tr>\n",
       "  </tbody>\n",
       "</table>\n",
       "</div>"
      ],
      "text/plain": [
       "  subreddit           author  \\\n",
       "0   dndnext        DMPatrick   \n",
       "1   dndnext  whitetempest521   \n",
       "2   dndnext        Th1nker26   \n",
       "\n",
       "                                                body  created_utc  \n",
       "0  Well first of all, if that's the only way you ...   1635356097  \n",
       "1  The feat is where almost the entire power budg...   1635356068  \n",
       "2  Oh I don't think it's a problem. I thought the...   1635356043  "
      ]
     },
     "execution_count": 24,
     "metadata": {},
     "output_type": "execute_result"
    }
   ],
   "source": [
    "dndnext_subs_df = pd.read_csv('./csv_files/dndnext_comm.csv')\n",
    "dndnext_subs_df.head(3)"
   ]
  },
  {
   "cell_type": "code",
   "execution_count": 25,
   "id": "46af70dc-a0c3-4a3c-bd49-9e3e64604388",
   "metadata": {},
   "outputs": [
    {
     "data": {
      "text/html": [
       "<div>\n",
       "<style scoped>\n",
       "    .dataframe tbody tr th:only-of-type {\n",
       "        vertical-align: middle;\n",
       "    }\n",
       "\n",
       "    .dataframe tbody tr th {\n",
       "        vertical-align: top;\n",
       "    }\n",
       "\n",
       "    .dataframe thead th {\n",
       "        text-align: right;\n",
       "    }\n",
       "</style>\n",
       "<table border=\"1\" class=\"dataframe\">\n",
       "  <thead>\n",
       "    <tr style=\"text-align: right;\">\n",
       "      <th></th>\n",
       "      <th>subreddit</th>\n",
       "      <th>author</th>\n",
       "      <th>body</th>\n",
       "      <th>created_utc</th>\n",
       "    </tr>\n",
       "  </thead>\n",
       "  <tbody>\n",
       "    <tr>\n",
       "      <th>0</th>\n",
       "      <td>DMAcademy</td>\n",
       "      <td>jordanleveledup</td>\n",
       "      <td>Just give him a fever. Sweats. Upset stomach. ...</td>\n",
       "      <td>1635356025</td>\n",
       "    </tr>\n",
       "    <tr>\n",
       "      <th>1</th>\n",
       "      <td>DMAcademy</td>\n",
       "      <td>YUSOBADDOG</td>\n",
       "      <td>Firstly, obviously your not that good at impro...</td>\n",
       "      <td>1635355991</td>\n",
       "    </tr>\n",
       "    <tr>\n",
       "      <th>2</th>\n",
       "      <td>DMAcademy</td>\n",
       "      <td>FlexterityCheck</td>\n",
       "      <td>&amp;gt;You can use their interest in the town to ...</td>\n",
       "      <td>1635355937</td>\n",
       "    </tr>\n",
       "  </tbody>\n",
       "</table>\n",
       "</div>"
      ],
      "text/plain": [
       "   subreddit           author  \\\n",
       "0  DMAcademy  jordanleveledup   \n",
       "1  DMAcademy       YUSOBADDOG   \n",
       "2  DMAcademy  FlexterityCheck   \n",
       "\n",
       "                                                body  created_utc  \n",
       "0  Just give him a fever. Sweats. Upset stomach. ...   1635356025  \n",
       "1  Firstly, obviously your not that good at impro...   1635355991  \n",
       "2  &gt;You can use their interest in the town to ...   1635355937  "
      ]
     },
     "execution_count": 25,
     "metadata": {},
     "output_type": "execute_result"
    }
   ],
   "source": [
    "dmacademy_subs_df = pd.read_csv('./csv_files/dmacademy_comm.csv')\n",
    "dmacademy_subs_df.head(3)"
   ]
  },
  {
   "cell_type": "code",
   "execution_count": 26,
   "id": "0b19bfbf-b644-46ad-a71e-1cc06b9d2f3b",
   "metadata": {},
   "outputs": [],
   "source": [
    "df = pd.concat([dndnext_subs_df, dmacademy_subs_df], ignore_index = True)\n",
    "df.to_csv('./csv_files/comms_orginal.csv', index=False)"
   ]
  }
 ],
 "metadata": {
  "kernelspec": {
   "display_name": "Python 3",
   "language": "python",
   "name": "python3"
  },
  "language_info": {
   "codemirror_mode": {
    "name": "ipython",
    "version": 3
   },
   "file_extension": ".py",
   "mimetype": "text/x-python",
   "name": "python",
   "nbconvert_exporter": "python",
   "pygments_lexer": "ipython3",
   "version": "3.8.8"
  }
 },
 "nbformat": 4,
 "nbformat_minor": 5
}
