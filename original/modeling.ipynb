{
 "cells": [
  {
   "cell_type": "markdown",
   "id": "8beace6f-8446-4aee-8492-a5b2326fbd09",
   "metadata": {},
   "source": [
    "## Modeling ##"
   ]
  },
  {
   "cell_type": "code",
   "execution_count": 1,
   "id": "9219fd6c-0bc1-4263-b51f-cb464650c3cb",
   "metadata": {},
   "outputs": [],
   "source": [
    "#imports for modeling\n",
    "\n",
    "import pandas as pd\n",
    "import numpy as np\n",
    "import seaborn as sns\n",
    "import matplotlib.pyplot as plt\n",
    "\n",
    "from sklearn.model_selection import train_test_split, cross_val_score, GridSearchCV\n",
    "from sklearn.pipeline import Pipeline\n",
    "from sklearn.naive_bayes import MultinomialNB\n",
    "from sklearn.linear_model import LogisticRegression\n",
    "from sklearn.metrics import confusion_matrix, plot_confusion_matrix, classification_report\n",
    "from sklearn.feature_extraction.text import CountVectorizer, TfidfVectorizer, TfidfTransformer\n",
    "from sklearn.ensemble import RandomForestClassifier"
   ]
  },
  {
   "cell_type": "code",
   "execution_count": 2,
   "id": "29ab3a1e-2083-42be-8677-2ef748716bc6",
   "metadata": {},
   "outputs": [],
   "source": [
    "#reading in csv file\n",
    "df = pd.read_csv('./csv_files/comms_clean.csv')"
   ]
  },
  {
   "cell_type": "code",
   "execution_count": 3,
   "id": "8b891426-28ad-4eed-99f4-f0db9d312083",
   "metadata": {},
   "outputs": [
    {
     "data": {
      "text/html": [
       "<div>\n",
       "<style scoped>\n",
       "    .dataframe tbody tr th:only-of-type {\n",
       "        vertical-align: middle;\n",
       "    }\n",
       "\n",
       "    .dataframe tbody tr th {\n",
       "        vertical-align: top;\n",
       "    }\n",
       "\n",
       "    .dataframe thead th {\n",
       "        text-align: right;\n",
       "    }\n",
       "</style>\n",
       "<table border=\"1\" class=\"dataframe\">\n",
       "  <thead>\n",
       "    <tr style=\"text-align: right;\">\n",
       "      <th></th>\n",
       "      <th>subreddit</th>\n",
       "      <th>author</th>\n",
       "      <th>body</th>\n",
       "      <th>text_lemmatized</th>\n",
       "    </tr>\n",
       "  </thead>\n",
       "  <tbody>\n",
       "    <tr>\n",
       "      <th>0</th>\n",
       "      <td>0</td>\n",
       "      <td>DMPatrick</td>\n",
       "      <td>well first  all   that  the only way you find ...</td>\n",
       "      <td>['well', 'first', 'all', 'that', 'the', 'only'...</td>\n",
       "    </tr>\n",
       "    <tr>\n",
       "      <th>1</th>\n",
       "      <td>0</td>\n",
       "      <td>whitetempest521</td>\n",
       "      <td>the feat  where almost the entire power budget...</td>\n",
       "      <td>['the', 'feat', 'where', 'almost', 'the', 'ent...</td>\n",
       "    </tr>\n",
       "    <tr>\n",
       "      <th>2</th>\n",
       "      <td>0</td>\n",
       "      <td>Th1nker26</td>\n",
       "      <td>not think    problem   thought the guy was ...</td>\n",
       "      <td>['not', 'think', 'problem', 'thought', 'the', ...</td>\n",
       "    </tr>\n",
       "  </tbody>\n",
       "</table>\n",
       "</div>"
      ],
      "text/plain": [
       "   subreddit           author  \\\n",
       "0          0        DMPatrick   \n",
       "1          0  whitetempest521   \n",
       "2          0        Th1nker26   \n",
       "\n",
       "                                                body  \\\n",
       "0  well first  all   that  the only way you find ...   \n",
       "1  the feat  where almost the entire power budget...   \n",
       "2     not think    problem   thought the guy was ...   \n",
       "\n",
       "                                     text_lemmatized  \n",
       "0  ['well', 'first', 'all', 'that', 'the', 'only'...  \n",
       "1  ['the', 'feat', 'where', 'almost', 'the', 'ent...  \n",
       "2  ['not', 'think', 'problem', 'thought', 'the', ...  "
      ]
     },
     "execution_count": 3,
     "metadata": {},
     "output_type": "execute_result"
    }
   ],
   "source": [
    "#taking a look at the first few rows\n",
    "df.head(3)"
   ]
  },
  {
   "cell_type": "code",
   "execution_count": 4,
   "id": "b9b8c60f-209e-4535-9292-33d3cb6808bf",
   "metadata": {},
   "outputs": [
    {
     "data": {
      "text/plain": [
       "1    0.501728\n",
       "0    0.498272\n",
       "Name: subreddit, dtype: float64"
      ]
     },
     "execution_count": 4,
     "metadata": {},
     "output_type": "execute_result"
    }
   ],
   "source": [
    "#looking at the perc. counts of subreddit values\n",
    "#recalling 0 is 'dndnext' and 1 is 'dmacademy'\n",
    "df['subreddit'].value_counts(normalize = True)"
   ]
  },
  {
   "cell_type": "code",
   "execution_count": 5,
   "id": "731935b4-5b33-48ab-8b0a-1cc27808c2e7",
   "metadata": {},
   "outputs": [
    {
     "data": {
      "text/plain": [
       "1    0.501728\n",
       "0    0.498272\n",
       "Name: subreddit, dtype: float64"
      ]
     },
     "execution_count": 5,
     "metadata": {},
     "output_type": "execute_result"
    }
   ],
   "source": [
    "#setting our X variables and y target and train_test_split\n",
    "#still stratifying on y even though it's basically a 50/50 split\n",
    "X = df['body']\n",
    "y = df['subreddit']\n",
    "\n",
    "X_train, X_test, y_train, y_test = train_test_split(X, y,\n",
    "                                                    stratify = y,\n",
    "                                                    random_state = 42)\n",
    "\n",
    "y.value_counts(normalize = True)"
   ]
  },
  {
   "cell_type": "markdown",
   "id": "54fc3e5f-e384-460e-b108-39ebda9e7934",
   "metadata": {},
   "source": [
    "- Adding additional stop words:"
   ]
  },
  {
   "cell_type": "code",
   "execution_count": 6,
   "id": "e74b4bab-d09a-45fa-a98d-b1b90d520847",
   "metadata": {},
   "outputs": [],
   "source": [
    "#reading in the stop words from sklearn and additional stop words\n",
    "#identified in the cleaning_and_eda notebook\n",
    "from sklearn.feature_extraction import text\n",
    "\n",
    "text.ENGLISH_STOP_WORDS\n",
    "\n",
    "addn_stop_words = ['amp', 'campaign', 'character', 'combat', 'damage', 'did',\n",
    "                 'dm', 'does', 'game', 'going', 'good', 'just',\n",
    "                 'know', 'level', 'like', 'lot', 'magic', 'make',\n",
    "                 'need', 'party', 'people', 'play', 'player', 'players',\n",
    "                 'point', 'really', 'roll', 'say', 'spell', 'thing',\n",
    "                 'things', 'think', 'time', 'use', 'want', 'way']\n",
    "\n",
    "stop_words = text.ENGLISH_STOP_WORDS.union(addn_stop_words)"
   ]
  },
  {
   "cell_type": "markdown",
   "id": "cecd014c-2367-4fde-91f4-0d1966793515",
   "metadata": {},
   "source": [
    "**Exploring Different Models**\n",
    "- with CountVectorizer"
   ]
  },
  {
   "cell_type": "code",
   "execution_count": 7,
   "id": "01f1026f-4f75-4642-98df-6b17b2d8c428",
   "metadata": {},
   "outputs": [],
   "source": [
    "#starting modeling with CountVectorizer to vectorizer 'body'\n",
    "cvec = CountVectorizer(analyzer = 'word',                        \n",
    "                         stop_words = stop_words, \n",
    "                         max_features = 10_000)\n",
    "nb = MultinomialNB()\n",
    "lr = LogisticRegression(max_iter = 10_000)\n",
    "rf = RandomForestClassifier(random_state = 42)"
   ]
  },
  {
   "cell_type": "code",
   "execution_count": 8,
   "id": "debcdf62-d4e4-453f-892d-c7d1f6d9505d",
   "metadata": {},
   "outputs": [],
   "source": [
    "#setting up pipeline\n",
    "pipe_cvec_nb = Pipeline([\n",
    "    ('cvec', cvec),\n",
    "    ('nb', nb),\n",
    "])"
   ]
  },
  {
   "cell_type": "code",
   "execution_count": 9,
   "id": "3e0d8efa-c7aa-4337-b058-494e560c8c1f",
   "metadata": {},
   "outputs": [
    {
     "data": {
      "text/plain": [
       "0.7369205866466648"
      ]
     },
     "execution_count": 9,
     "metadata": {},
     "output_type": "execute_result"
    }
   ],
   "source": [
    "#getting cross_val_score:\n",
    "cross_val_score(pipe_cvec_nb, X_train, y_train, cv = 5).mean()"
   ]
  },
  {
   "cell_type": "code",
   "execution_count": 10,
   "id": "5ad0da21-3c0d-463a-9648-1a9c2e7b9458",
   "metadata": {},
   "outputs": [
    {
     "data": {
      "text/plain": [
       "(0.7732786663052318, 0.7390729823134784)"
      ]
     },
     "execution_count": 10,
     "metadata": {},
     "output_type": "execute_result"
    }
   ],
   "source": [
    "#fitting and scoring model:\n",
    "pipe_cvec_nb.fit(X_train, y_train)\n",
    "pipe_cvec_nb.score(X_train, y_train), pipe_cvec_nb.score(X_test, y_test)\n",
    "\n",
    "#overfit"
   ]
  },
  {
   "cell_type": "code",
   "execution_count": 11,
   "id": "fb5738a2-d920-4559-844c-d2742c0fc9ec",
   "metadata": {},
   "outputs": [
    {
     "name": "stderr",
     "output_type": "stream",
     "text": [
      "C:\\Users\\Mary\\anaconda3\\lib\\site-packages\\sklearn\\utils\\deprecation.py:101: FutureWarning: Attribute coef_ was deprecated in version 0.24 and will be removed in 1.1 (renaming of 0.26).\n",
      "  warnings.warn(msg, category=FutureWarning)\n"
     ]
    },
    {
     "data": {
      "text/html": [
       "<div>\n",
       "<style scoped>\n",
       "    .dataframe tbody tr th:only-of-type {\n",
       "        vertical-align: middle;\n",
       "    }\n",
       "\n",
       "    .dataframe tbody tr th {\n",
       "        vertical-align: top;\n",
       "    }\n",
       "\n",
       "    .dataframe thead th {\n",
       "        text-align: right;\n",
       "    }\n",
       "</style>\n",
       "<table border=\"1\" class=\"dataframe\">\n",
       "  <thead>\n",
       "    <tr style=\"text-align: right;\">\n",
       "      <th></th>\n",
       "      <th>coef_</th>\n",
       "      <th>abs_coef</th>\n",
       "    </tr>\n",
       "  </thead>\n",
       "  <tbody>\n",
       "    <tr>\n",
       "      <th>uas</th>\n",
       "      <td>-12.828169</td>\n",
       "      <td>12.828169</td>\n",
       "    </tr>\n",
       "    <tr>\n",
       "      <th>free_emotes_pack</th>\n",
       "      <td>-12.828169</td>\n",
       "      <td>12.828169</td>\n",
       "    </tr>\n",
       "    <tr>\n",
       "      <th>snare</th>\n",
       "      <td>-12.828169</td>\n",
       "      <td>12.828169</td>\n",
       "    </tr>\n",
       "    <tr>\n",
       "      <th>vale</th>\n",
       "      <td>-12.828169</td>\n",
       "      <td>12.828169</td>\n",
       "    </tr>\n",
       "    <tr>\n",
       "      <th>musket</th>\n",
       "      <td>-12.828169</td>\n",
       "      <td>12.828169</td>\n",
       "    </tr>\n",
       "    <tr>\n",
       "      <th>skirmisher</th>\n",
       "      <td>-12.828169</td>\n",
       "      <td>12.828169</td>\n",
       "    </tr>\n",
       "    <tr>\n",
       "      <th>vancian</th>\n",
       "      <td>-12.828169</td>\n",
       "      <td>12.828169</td>\n",
       "    </tr>\n",
       "    <tr>\n",
       "      <th>conjurer</th>\n",
       "      <td>-12.828169</td>\n",
       "      <td>12.828169</td>\n",
       "    </tr>\n",
       "    <tr>\n",
       "      <th>sickening</th>\n",
       "      <td>-12.828169</td>\n",
       "      <td>12.828169</td>\n",
       "    </tr>\n",
       "    <tr>\n",
       "      <th>nentir</th>\n",
       "      <td>-12.828169</td>\n",
       "      <td>12.828169</td>\n",
       "    </tr>\n",
       "    <tr>\n",
       "      <th>shortswords</th>\n",
       "      <td>-12.828169</td>\n",
       "      <td>12.828169</td>\n",
       "    </tr>\n",
       "    <tr>\n",
       "      <th>consumer</th>\n",
       "      <td>-12.828169</td>\n",
       "      <td>12.828169</td>\n",
       "    </tr>\n",
       "    <tr>\n",
       "      <th>shillelagh</th>\n",
       "      <td>-12.828169</td>\n",
       "      <td>12.828169</td>\n",
       "    </tr>\n",
       "    <tr>\n",
       "      <th>shi</th>\n",
       "      <td>-12.828169</td>\n",
       "      <td>12.828169</td>\n",
       "    </tr>\n",
       "    <tr>\n",
       "      <th>gust</th>\n",
       "      <td>-12.828169</td>\n",
       "      <td>12.828169</td>\n",
       "    </tr>\n",
       "  </tbody>\n",
       "</table>\n",
       "</div>"
      ],
      "text/plain": [
       "                      coef_   abs_coef\n",
       "uas              -12.828169  12.828169\n",
       "free_emotes_pack -12.828169  12.828169\n",
       "snare            -12.828169  12.828169\n",
       "vale             -12.828169  12.828169\n",
       "musket           -12.828169  12.828169\n",
       "skirmisher       -12.828169  12.828169\n",
       "vancian          -12.828169  12.828169\n",
       "conjurer         -12.828169  12.828169\n",
       "sickening        -12.828169  12.828169\n",
       "nentir           -12.828169  12.828169\n",
       "shortswords      -12.828169  12.828169\n",
       "consumer         -12.828169  12.828169\n",
       "shillelagh       -12.828169  12.828169\n",
       "shi              -12.828169  12.828169\n",
       "gust             -12.828169  12.828169"
      ]
     },
     "execution_count": 11,
     "metadata": {},
     "output_type": "execute_result"
    }
   ],
   "source": [
    "#looking at the most influential words in the model\n",
    "nb_feats = pd.DataFrame(data = nb.coef_.T, index = cvec.get_feature_names())\n",
    "nb_feats.columns = ['coef_']\n",
    "nb_feats['abs_coef'] = np.abs(nb_feats['coef_'])\n",
    "nb_feats.sort_values(by='abs_coef', ascending = False).head(15)"
   ]
  },
  {
   "cell_type": "code",
   "execution_count": 12,
   "id": "32a3fb28-3500-49b0-bb6f-9ec6391d19a0",
   "metadata": {},
   "outputs": [],
   "source": [
    "#setting up pipeline\n",
    "pipe_cvec_lr = Pipeline([\n",
    "    ('cvec', cvec),\n",
    "    ('lr', lr),\n",
    "])"
   ]
  },
  {
   "cell_type": "code",
   "execution_count": 13,
   "id": "8c82cde7-dc57-4ef6-a34c-533c1ccc989d",
   "metadata": {},
   "outputs": [
    {
     "data": {
      "text/plain": [
       "0.7195039849302111"
      ]
     },
     "execution_count": 13,
     "metadata": {},
     "output_type": "execute_result"
    }
   ],
   "source": [
    "#getting cross_val_score:\n",
    "cross_val_score(pipe_cvec_lr, X_train, y_train, cv = 5).mean()"
   ]
  },
  {
   "cell_type": "code",
   "execution_count": 14,
   "id": "4cab0a0c-48ab-46fb-a40a-99ee0ccced9f",
   "metadata": {},
   "outputs": [
    {
     "data": {
      "text/plain": [
       "(0.8588370832203849, 0.7243342142711934)"
      ]
     },
     "execution_count": 14,
     "metadata": {},
     "output_type": "execute_result"
    }
   ],
   "source": [
    "#fitting and scoring model:\n",
    "pipe_cvec_lr.fit(X_train, y_train)\n",
    "pipe_cvec_lr.score(X_train, y_train), pipe_cvec_lr.score(X_test, y_test)\n",
    "\n",
    "#extremely overfit"
   ]
  },
  {
   "cell_type": "code",
   "execution_count": 15,
   "id": "5f5f3028-252f-4567-b27c-a89bda5d9f46",
   "metadata": {},
   "outputs": [
    {
     "data": {
      "text/html": [
       "<div>\n",
       "<style scoped>\n",
       "    .dataframe tbody tr th:only-of-type {\n",
       "        vertical-align: middle;\n",
       "    }\n",
       "\n",
       "    .dataframe tbody tr th {\n",
       "        vertical-align: top;\n",
       "    }\n",
       "\n",
       "    .dataframe thead th {\n",
       "        text-align: right;\n",
       "    }\n",
       "</style>\n",
       "<table border=\"1\" class=\"dataframe\">\n",
       "  <thead>\n",
       "    <tr style=\"text-align: right;\">\n",
       "      <th></th>\n",
       "      <th>coef_</th>\n",
       "      <th>abs_coef</th>\n",
       "    </tr>\n",
       "  </thead>\n",
       "  <tbody>\n",
       "    <tr>\n",
       "      <th>torture</th>\n",
       "      <td>2.624060</td>\n",
       "      <td>2.624060</td>\n",
       "    </tr>\n",
       "    <tr>\n",
       "      <th>participate</th>\n",
       "      <td>-2.545875</td>\n",
       "      <td>2.545875</td>\n",
       "    </tr>\n",
       "    <tr>\n",
       "      <th>flgs</th>\n",
       "      <td>-2.503960</td>\n",
       "      <td>2.503960</td>\n",
       "    </tr>\n",
       "    <tr>\n",
       "      <th>amazon</th>\n",
       "      <td>-2.324770</td>\n",
       "      <td>2.324770</td>\n",
       "    </tr>\n",
       "    <tr>\n",
       "      <th>conclave</th>\n",
       "      <td>2.301129</td>\n",
       "      <td>2.301129</td>\n",
       "    </tr>\n",
       "    <tr>\n",
       "      <th>guest</th>\n",
       "      <td>-2.175415</td>\n",
       "      <td>2.175415</td>\n",
       "    </tr>\n",
       "    <tr>\n",
       "      <th>paralyzed</th>\n",
       "      <td>2.124193</td>\n",
       "      <td>2.124193</td>\n",
       "    </tr>\n",
       "    <tr>\n",
       "      <th>fudged</th>\n",
       "      <td>-1.939496</td>\n",
       "      <td>1.939496</td>\n",
       "    </tr>\n",
       "    <tr>\n",
       "      <th>physics</th>\n",
       "      <td>-1.911757</td>\n",
       "      <td>1.911757</td>\n",
       "    </tr>\n",
       "    <tr>\n",
       "      <th>enforce</th>\n",
       "      <td>1.907581</td>\n",
       "      <td>1.907581</td>\n",
       "    </tr>\n",
       "    <tr>\n",
       "      <th>vessel</th>\n",
       "      <td>-1.812901</td>\n",
       "      <td>1.812901</td>\n",
       "    </tr>\n",
       "    <tr>\n",
       "      <th>governs</th>\n",
       "      <td>1.805088</td>\n",
       "      <td>1.805088</td>\n",
       "    </tr>\n",
       "    <tr>\n",
       "      <th>feeblemind</th>\n",
       "      <td>-1.795437</td>\n",
       "      <td>1.795437</td>\n",
       "    </tr>\n",
       "    <tr>\n",
       "      <th>fudge</th>\n",
       "      <td>-1.790724</td>\n",
       "      <td>1.790724</td>\n",
       "    </tr>\n",
       "    <tr>\n",
       "      <th>generator</th>\n",
       "      <td>1.785329</td>\n",
       "      <td>1.785329</td>\n",
       "    </tr>\n",
       "  </tbody>\n",
       "</table>\n",
       "</div>"
      ],
      "text/plain": [
       "                coef_  abs_coef\n",
       "torture      2.624060  2.624060\n",
       "participate -2.545875  2.545875\n",
       "flgs        -2.503960  2.503960\n",
       "amazon      -2.324770  2.324770\n",
       "conclave     2.301129  2.301129\n",
       "guest       -2.175415  2.175415\n",
       "paralyzed    2.124193  2.124193\n",
       "fudged      -1.939496  1.939496\n",
       "physics     -1.911757  1.911757\n",
       "enforce      1.907581  1.907581\n",
       "vessel      -1.812901  1.812901\n",
       "governs      1.805088  1.805088\n",
       "feeblemind  -1.795437  1.795437\n",
       "fudge       -1.790724  1.790724\n",
       "generator    1.785329  1.785329"
      ]
     },
     "execution_count": 15,
     "metadata": {},
     "output_type": "execute_result"
    }
   ],
   "source": [
    "#looking at the most influential words in the model\n",
    "lr_feats = pd.DataFrame(data = lr.coef_.T, index = cvec.get_feature_names())\n",
    "lr_feats.columns = ['coef_']\n",
    "lr_feats['abs_coef'] = np.abs(lr_feats['coef_'])\n",
    "lr_feats.sort_values(by = 'abs_coef', ascending = False).head(15)"
   ]
  },
  {
   "cell_type": "code",
   "execution_count": 16,
   "id": "58964373-4c49-4512-8997-e3718ddfe5d7",
   "metadata": {},
   "outputs": [
    {
     "data": {
      "text/plain": [
       "0.7195039849302111"
      ]
     },
     "execution_count": 16,
     "metadata": {},
     "output_type": "execute_result"
    }
   ],
   "source": [
    "#setting up pipeline\n",
    "pipe_cvec_rf = Pipeline([\n",
    "    ('cvec', cvec),\n",
    "    ('rf', rf)\n",
    "])\n",
    "\n",
    "#getting cross_val_score:\n",
    "cross_val_score(pipe_cvec_lr, X_train, y_train, cv = 5).mean()"
   ]
  },
  {
   "cell_type": "code",
   "execution_count": 17,
   "id": "c7d20034-d789-46bc-9e4d-246c649f70e6",
   "metadata": {},
   "outputs": [
    {
     "data": {
      "text/plain": [
       "(0.990546218487395, 0.7148810733889002)"
      ]
     },
     "execution_count": 17,
     "metadata": {},
     "output_type": "execute_result"
    }
   ],
   "source": [
    "#fitting and scoring model:\n",
    "pipe_cvec_rf.fit(X_train, y_train)\n",
    "pipe_cvec_rf.score(X_train, y_train), pipe_cvec_rf.score(X_test, y_test)\n",
    "\n",
    "#super accurate for existing data"
   ]
  },
  {
   "cell_type": "markdown",
   "id": "ef112971-d70b-41d7-be13-d67e1764658f",
   "metadata": {},
   "source": [
    "- I'm going to further explore the MultinomialNB model, which was the least overfit for the data."
   ]
  },
  {
   "cell_type": "code",
   "execution_count": 18,
   "id": "fed8de49-bf1b-473f-935f-833b66ac1562",
   "metadata": {},
   "outputs": [
    {
     "data": {
      "text/plain": [
       "dict_keys(['analyzer', 'binary', 'decode_error', 'dtype', 'encoding', 'input', 'lowercase', 'max_df', 'max_features', 'min_df', 'ngram_range', 'preprocessor', 'stop_words', 'strip_accents', 'token_pattern', 'tokenizer', 'vocabulary'])"
      ]
     },
     "execution_count": 18,
     "metadata": {},
     "output_type": "execute_result"
    }
   ],
   "source": [
    "cvec.get_params().keys()"
   ]
  },
  {
   "cell_type": "code",
   "execution_count": 19,
   "id": "ff6184d0-0e39-4b15-80fa-57cf87cc3cbb",
   "metadata": {},
   "outputs": [],
   "source": [
    "pipe_params = {\n",
    "    'cvec__max_features': [None, 1_000, 2_000, 4_000, 8_000], \n",
    "    'cvec__min_df': [1, 2, 3], \n",
    "    'cvec__max_df': [1.0, .75, .85, .95],\n",
    "    'cvec__ngram_range': [(1, 1), (1, 2)]\n",
    "}"
   ]
  },
  {
   "cell_type": "code",
   "execution_count": 20,
   "id": "697c3752-6cf7-4695-aa30-4c534b7e9782",
   "metadata": {},
   "outputs": [],
   "source": [
    "#instantiating GridSearchCV.\n",
    "gs_cvec = GridSearchCV(pipe_cvec_nb, \n",
    "                  param_grid = pipe_params, \n",
    "                  cv = 5, \n",
    "                  verbose = 1)"
   ]
  },
  {
   "cell_type": "code",
   "execution_count": 21,
   "id": "88500d7f-1ece-4dfe-a957-2327b3b2d5ca",
   "metadata": {},
   "outputs": [
    {
     "name": "stdout",
     "output_type": "stream",
     "text": [
      "Fitting 5 folds for each of 120 candidates, totalling 600 fits\n"
     ]
    },
    {
     "data": {
      "text/plain": [
       "{'cvec__max_df': 1.0,\n",
       " 'cvec__max_features': None,\n",
       " 'cvec__min_df': 1,\n",
       " 'cvec__ngram_range': (1, 2)}"
      ]
     },
     "execution_count": 21,
     "metadata": {},
     "output_type": "execute_result"
    }
   ],
   "source": [
    "#Fit GridSearch to training data.\n",
    "gs_cvec.fit(X_train, y_train)\n",
    "gs_cvec.best_params_"
   ]
  },
  {
   "cell_type": "code",
   "execution_count": 22,
   "id": "ce0351cc-03ce-48f4-b019-28f1c941b697",
   "metadata": {},
   "outputs": [
    {
     "data": {
      "text/plain": [
       "0.7547437785139663"
      ]
     },
     "execution_count": 22,
     "metadata": {},
     "output_type": "execute_result"
    }
   ],
   "source": [
    "gs_cvec.best_score_"
   ]
  },
  {
   "cell_type": "code",
   "execution_count": 23,
   "id": "f28eece0-877f-4834-b141-4fe753e294ba",
   "metadata": {},
   "outputs": [
    {
     "data": {
      "text/plain": [
       "(0.9644890214150176, 0.7534051636511486)"
      ]
     },
     "execution_count": 23,
     "metadata": {},
     "output_type": "execute_result"
    }
   ],
   "source": [
    "gs_cvec.score(X_train, y_train), gs_cvec.score(X_test, y_test)"
   ]
  },
  {
   "cell_type": "markdown",
   "id": "a6557c3f-975a-4a82-beec-2d4011961000",
   "metadata": {},
   "source": [
    "**Model Evaluation**"
   ]
  },
  {
   "cell_type": "code",
   "execution_count": 24,
   "id": "223005bf-aff6-4600-8f2d-d2f27a36ceeb",
   "metadata": {},
   "outputs": [],
   "source": [
    "#predictions:\n",
    "preds = gs_cvec.predict(X_test)\n",
    "\n",
    "#conf. matrix values:\n",
    "tn, fp, fn, tp = confusion_matrix(y_test, preds).ravel()"
   ]
  },
  {
   "cell_type": "code",
   "execution_count": 25,
   "id": "9463aac2-9380-4627-9d08-49be342b47cf",
   "metadata": {},
   "outputs": [
    {
     "name": "stdout",
     "output_type": "stream",
     "text": [
      "              precision    recall  f1-score   support\n",
      "\n",
      "           0       0.80      0.67      0.73      4902\n",
      "           1       0.72      0.83      0.77      4936\n",
      "\n",
      "    accuracy                           0.75      9838\n",
      "   macro avg       0.76      0.75      0.75      9838\n",
      "weighted avg       0.76      0.75      0.75      9838\n",
      "\n"
     ]
    }
   ],
   "source": [
    "print(classification_report(y_test, preds))"
   ]
  },
  {
   "cell_type": "code",
   "execution_count": 26,
   "id": "d1eb94d8-7fe5-4279-85f5-b7a3a90ce172",
   "metadata": {
    "tags": []
   },
   "outputs": [
    {
     "data": {
      "image/png": "[encoded data removed]",
      "text/plain": [
       "<Figure size 432x288 with 2 Axes>"
      ]
     },
     "metadata": {
      "needs_background": "light"
     },
     "output_type": "display_data"
    }
   ],
   "source": [
    "plot_confusion_matrix(gs_cvec, X_test, y_test, cmap = 'viridis');"
   ]
  },
  {
   "cell_type": "markdown",
   "id": "f0fbb6d5-6ff8-468c-9f92-c1bcf257262b",
   "metadata": {},
   "source": [
    "**cvec with Additional n-Gram**"
   ]
  },
  {
   "cell_type": "code",
   "execution_count": 102,
   "id": "189d92f7-0dda-400e-9eb2-93d8cf7cb3e9",
   "metadata": {},
   "outputs": [],
   "source": [
    "#ease of reference\n",
    "cvec = CountVectorizer(analyzer = 'word',                        \n",
    "                         stop_words = stop_words, \n",
    "                         max_features = 10_000,\n",
    "                         ngram_range = (1,3))\n",
    "nb = MultinomialNB()\n",
    "lr = LogisticRegression(max_iter = 10_000)\n",
    "rf = RandomForestClassifier(random_state = 42)"
   ]
  },
  {
   "cell_type": "code",
   "execution_count": 28,
   "id": "d91b48e6-ef01-43d7-b8c1-ee2244e942c1",
   "metadata": {},
   "outputs": [
    {
     "data": {
      "text/plain": [
       "0.7358701986187749"
      ]
     },
     "execution_count": 28,
     "metadata": {},
     "output_type": "execute_result"
    }
   ],
   "source": [
    "pipe_ngrams_nb = Pipeline([\n",
    "    ('cvec', cvec),\n",
    "    ('nb', nb)\n",
    "])\n",
    "\n",
    "cross_val_score(pipe_ngrams_nb, X_train, y_train, cv = 5).mean()"
   ]
  },
  {
   "cell_type": "code",
   "execution_count": 29,
   "id": "f5d8c914-deb5-4a8f-adb8-89b6eac42e50",
   "metadata": {},
   "outputs": [
    {
     "data": {
      "text/plain": [
       "(0.767992680943345, 0.7365318154096361)"
      ]
     },
     "execution_count": 29,
     "metadata": {},
     "output_type": "execute_result"
    }
   ],
   "source": [
    "pipe_ngrams_nb.fit(X_train, y_train)\n",
    "pipe_ngrams_nb.score(X_train, y_train), pipe_ngrams_nb.score(X_test, y_test)"
   ]
  },
  {
   "cell_type": "code",
   "execution_count": 30,
   "id": "8fd150b0-2dfa-45df-b2b6-ef22246c8113",
   "metadata": {},
   "outputs": [
    {
     "data": {
      "text/plain": [
       "0.7210285645267185"
      ]
     },
     "execution_count": 30,
     "metadata": {},
     "output_type": "execute_result"
    }
   ],
   "source": [
    "pipe_ngrams_lr = Pipeline([\n",
    "    ('cvec', cvec),\n",
    "    ('lr', lr)\n",
    "])\n",
    "\n",
    "cross_val_score(pipe_ngrams_lr, X_train, y_train, cv = 5).mean()"
   ]
  },
  {
   "cell_type": "code",
   "execution_count": 31,
   "id": "7fc5e0b5-8db3-4e2b-8ed9-02c0a453c91b",
   "metadata": {},
   "outputs": [
    {
     "data": {
      "text/plain": [
       "(0.8619883437245867, 0.7235210408619638)"
      ]
     },
     "execution_count": 31,
     "metadata": {},
     "output_type": "execute_result"
    }
   ],
   "source": [
    "pipe_ngrams_lr.fit(X_train, y_train)\n",
    "pipe_ngrams_lr.score(X_train, y_train), pipe_ngrams_lr.score(X_test, y_test)"
   ]
  },
  {
   "cell_type": "code",
   "execution_count": 32,
   "id": "cd2c3479-16cd-4705-9be5-833fed5bab02",
   "metadata": {},
   "outputs": [
    {
     "data": {
      "text/plain": [
       "0.7122868676725783"
      ]
     },
     "execution_count": 32,
     "metadata": {},
     "output_type": "execute_result"
    }
   ],
   "source": [
    "pipe_ngrams_rf = Pipeline([\n",
    "    ('cvec', cvec),\n",
    "    ('rf', rf)\n",
    "])\n",
    "\n",
    "cross_val_score(pipe_ngrams_rf, X_train, y_train, cv = 5).mean()"
   ]
  },
  {
   "cell_type": "code",
   "execution_count": 33,
   "id": "13ab4a16-f488-488b-940d-d3661e38bca6",
   "metadata": {},
   "outputs": [
    {
     "data": {
      "text/plain": [
       "(0.9895296828408783, 0.7174222402927424)"
      ]
     },
     "execution_count": 33,
     "metadata": {},
     "output_type": "execute_result"
    }
   ],
   "source": [
    "pipe_ngrams_rf.fit(X_train, y_train)\n",
    "pipe_ngrams_rf.score(X_train, y_train), pipe_ngrams_rf.score(X_test, y_test)"
   ]
  },
  {
   "cell_type": "markdown",
   "id": "62ac342a-18a3-4bed-a011-43bf10997a81",
   "metadata": {},
   "source": [
    "Note that the inclusion of longer n-grams did increase our scores slightly."
   ]
  },
  {
   "cell_type": "markdown",
   "id": "71fd6ff5-ab94-4f50-b592-7796a69b307b",
   "metadata": {},
   "source": [
    "**Exploring Different Models**\n",
    "- with TFID"
   ]
  },
  {
   "cell_type": "code",
   "execution_count": 104,
   "id": "74ec75fa-f572-4df1-a0a8-3482ce3f7edf",
   "metadata": {},
   "outputs": [],
   "source": [
    "tf = TfidfVectorizer(analyzer = \"word\", \n",
    "                     stop_words = stop_words, \n",
    "                     max_features = 10_000)"
   ]
  },
  {
   "cell_type": "code",
   "execution_count": 35,
   "id": "75b23057-46ad-4bf8-a0f4-c901ec668f41",
   "metadata": {},
   "outputs": [
    {
     "data": {
      "text/plain": [
       "0.7387842066417358"
      ]
     },
     "execution_count": 35,
     "metadata": {},
     "output_type": "execute_result"
    }
   ],
   "source": [
    "pipe_tfid_nb = Pipeline([\n",
    "    ('tf', tf),\n",
    "    ('nb', nb)\n",
    "])\n",
    "\n",
    "cross_val_score(pipe_tfid_nb, X_train, y_train, cv = 5).mean()"
   ]
  },
  {
   "cell_type": "code",
   "execution_count": 36,
   "id": "ea99be33-e15c-48f0-be58-8140ca4e07f5",
   "metadata": {},
   "outputs": [
    {
     "data": {
      "text/plain": [
       "(0.7889671997831391, 0.7243342142711934)"
      ]
     },
     "execution_count": 36,
     "metadata": {},
     "output_type": "execute_result"
    }
   ],
   "source": [
    "pipe_tfid_nb.fit(X_train, y_train)\n",
    "pipe_tfid_nb.score(X_train, y_train), pipe_cvec_lr.score(X_test, y_test)"
   ]
  },
  {
   "cell_type": "code",
   "execution_count": 106,
   "id": "ee167578-a89f-4ac2-8dca-653be470d9d0",
   "metadata": {},
   "outputs": [],
   "source": [
    "nb_tf_feats = pd.DataFrame(data = nb.coef_.T, index = tf.get_feature_names())\n",
    "nb_tf_feats.columns = ['coef_']\n",
    "nb_tf_feats['abs_coef'] = np.abs(nb_tf_feats['coef_'])\n",
    "nb_tf_feats.sort_values(by = 'coef_', ascending = False).head(10)"
   ]
  },
  {
   "cell_type": "code",
   "execution_count": 38,
   "id": "ff5730da-ea01-44e8-811e-cdc548cc5b36",
   "metadata": {},
   "outputs": [
    {
     "data": {
      "text/plain": [
       "0.7403090503062816"
      ]
     },
     "execution_count": 38,
     "metadata": {},
     "output_type": "execute_result"
    }
   ],
   "source": [
    "pipe_tfid_lr = Pipeline([\n",
    "    ('tf', tf),\n",
    "    ('lr', lr)\n",
    "])\n",
    "\n",
    "cross_val_score(pipe_tfid_lr, X_train, y_train, cv = 5).mean()"
   ]
  },
  {
   "cell_type": "code",
   "execution_count": 39,
   "id": "226a0e8e-7709-4eb1-8681-6a5746f55ef7",
   "metadata": {},
   "outputs": [
    {
     "data": {
      "text/plain": [
       "(0.8157698563296286, 0.7411059158365522)"
      ]
     },
     "execution_count": 39,
     "metadata": {},
     "output_type": "execute_result"
    }
   ],
   "source": [
    "pipe_tfid_lr.fit(X_train, y_train)\n",
    "pipe_tfid_lr.score(X_train, y_train), pipe_tfid_lr.score(X_test, y_test)"
   ]
  },
  {
   "cell_type": "code",
   "execution_count": 101,
   "id": "0c0a576c-9da1-42ce-ae63-e8e609a61dcb",
   "metadata": {},
   "outputs": [
    {
     "data": {
      "text/html": [
       "<div>\n",
       "<style scoped>\n",
       "    .dataframe tbody tr th:only-of-type {\n",
       "        vertical-align: middle;\n",
       "    }\n",
       "\n",
       "    .dataframe tbody tr th {\n",
       "        vertical-align: top;\n",
       "    }\n",
       "\n",
       "    .dataframe thead th {\n",
       "        text-align: right;\n",
       "    }\n",
       "</style>\n",
       "<table border=\"1\" class=\"dataframe\">\n",
       "  <thead>\n",
       "    <tr style=\"text-align: right;\">\n",
       "      <th></th>\n",
       "      <th>coef_</th>\n",
       "      <th>abs_coef</th>\n",
       "    </tr>\n",
       "  </thead>\n",
       "  <tbody>\n",
       "    <tr>\n",
       "      <th>torture</th>\n",
       "      <td>4.428696</td>\n",
       "      <td>4.428696</td>\n",
       "    </tr>\n",
       "    <tr>\n",
       "      <th>blind</th>\n",
       "      <td>3.942432</td>\n",
       "      <td>3.942432</td>\n",
       "    </tr>\n",
       "    <tr>\n",
       "      <th>advice</th>\n",
       "      <td>3.113025</td>\n",
       "      <td>3.113025</td>\n",
       "    </tr>\n",
       "    <tr>\n",
       "      <th>perception</th>\n",
       "      <td>3.098754</td>\n",
       "      <td>3.098754</td>\n",
       "    </tr>\n",
       "    <tr>\n",
       "      <th>world</th>\n",
       "      <td>2.984829</td>\n",
       "      <td>2.984829</td>\n",
       "    </tr>\n",
       "    <tr>\n",
       "      <th>goliath</th>\n",
       "      <td>2.975844</td>\n",
       "      <td>2.975844</td>\n",
       "    </tr>\n",
       "    <tr>\n",
       "      <th>tarrasque</th>\n",
       "      <td>2.911631</td>\n",
       "      <td>2.911631</td>\n",
       "    </tr>\n",
       "    <tr>\n",
       "      <th>timer</th>\n",
       "      <td>2.595519</td>\n",
       "      <td>2.595519</td>\n",
       "    </tr>\n",
       "    <tr>\n",
       "      <th>conclave</th>\n",
       "      <td>2.495618</td>\n",
       "      <td>2.495618</td>\n",
       "    </tr>\n",
       "    <tr>\n",
       "      <th>roll20</th>\n",
       "      <td>2.365016</td>\n",
       "      <td>2.365016</td>\n",
       "    </tr>\n",
       "  </tbody>\n",
       "</table>\n",
       "</div>"
      ],
      "text/plain": [
       "               coef_  abs_coef\n",
       "torture     4.428696  4.428696\n",
       "blind       3.942432  3.942432\n",
       "advice      3.113025  3.113025\n",
       "perception  3.098754  3.098754\n",
       "world       2.984829  2.984829\n",
       "goliath     2.975844  2.975844\n",
       "tarrasque   2.911631  2.911631\n",
       "timer       2.595519  2.595519\n",
       "conclave    2.495618  2.495618\n",
       "roll20      2.365016  2.365016"
      ]
     },
     "execution_count": 101,
     "metadata": {},
     "output_type": "execute_result"
    }
   ],
   "source": [
    "lr_tf_feats = pd.DataFrame(data = lr.coef_.T, index = tf.get_feature_names())\n",
    "lr_tf_feats.columns = ['coef_']\n",
    "lr_tf_feats['abs_coef'] = np.abs(lr_tf_feats['coef_'])\n",
    "lr_tf_feats.sort_values(by = 'coef_', ascending = False).head(10)"
   ]
  },
  {
   "cell_type": "code",
   "execution_count": 41,
   "id": "3d92f3b0-27bf-4ec2-9f02-546b189b78fc",
   "metadata": {},
   "outputs": [
    {
     "data": {
      "text/plain": [
       "0.7162850988759715"
      ]
     },
     "execution_count": 41,
     "metadata": {},
     "output_type": "execute_result"
    }
   ],
   "source": [
    "pipe_tfid_rf = Pipeline([\n",
    "    ('tf', tf),\n",
    "    ('rf', rf)\n",
    "])\n",
    "\n",
    "cross_val_score(pipe_tfid_rf, X_train, y_train, cv = 5).mean()"
   ]
  },
  {
   "cell_type": "code",
   "execution_count": 42,
   "id": "e4f9e8e4-cc78-40ee-9bac-adce0fd4a307",
   "metadata": {},
   "outputs": [
    {
     "data": {
      "text/plain": [
       "(0.9902751423149905, 0.7227078674527343)"
      ]
     },
     "execution_count": 42,
     "metadata": {},
     "output_type": "execute_result"
    }
   ],
   "source": [
    "pipe_tfid_rf.fit(X_train, y_train)\n",
    "pipe_tfid_rf.score(X_train, y_train), pipe_tfid_rf.score(X_test, y_test)"
   ]
  },
  {
   "cell_type": "markdown",
   "id": "9bb506e7-ba0b-4d01-a3a9-53a8f4e7f767",
   "metadata": {},
   "source": [
    "- Like with cvec, I'm going to further explore the MultinomialNB model, which was the least overfit for the data."
   ]
  },
  {
   "cell_type": "code",
   "execution_count": 43,
   "id": "69d88063-4925-4b9c-92a2-51f4d088ed23",
   "metadata": {},
   "outputs": [
    {
     "data": {
      "text/plain": [
       "Pipeline(steps=[('tf',\n",
       "                 TfidfVectorizer(max_features=10000,\n",
       "                                 stop_words=frozenset({'a', 'about', 'above',\n",
       "                                                       'across', 'after',\n",
       "                                                       'afterwards', 'again',\n",
       "                                                       'against', 'all',\n",
       "                                                       'almost', 'alone',\n",
       "                                                       'along', 'already',\n",
       "                                                       'also', 'although',\n",
       "                                                       'always', 'am', 'among',\n",
       "                                                       'amongst', 'amoungst',\n",
       "                                                       'amount', 'amp', 'an',\n",
       "                                                       'and', 'another', 'any',\n",
       "                                                       'anyhow', 'anyone',\n",
       "                                                       'anything', 'anyway', ...}))),\n",
       "                ('nb', MultinomialNB())])"
      ]
     },
     "execution_count": 43,
     "metadata": {},
     "output_type": "execute_result"
    }
   ],
   "source": [
    "pipe_tfid_nb"
   ]
  },
  {
   "cell_type": "code",
   "execution_count": 44,
   "id": "8f7e3467-f7af-43f3-8816-fb0324eb1d3f",
   "metadata": {},
   "outputs": [
    {
     "data": {
      "text/plain": [
       "dict_keys(['analyzer', 'binary', 'decode_error', 'dtype', 'encoding', 'input', 'lowercase', 'max_df', 'max_features', 'min_df', 'ngram_range', 'norm', 'preprocessor', 'smooth_idf', 'stop_words', 'strip_accents', 'sublinear_tf', 'token_pattern', 'tokenizer', 'use_idf', 'vocabulary'])"
      ]
     },
     "execution_count": 44,
     "metadata": {},
     "output_type": "execute_result"
    }
   ],
   "source": [
    "tf.get_params().keys()"
   ]
  },
  {
   "cell_type": "code",
   "execution_count": 45,
   "id": "b6feadfa-45f8-4eca-a618-5e0f8e2602ce",
   "metadata": {},
   "outputs": [],
   "source": [
    "pipe_params = {\n",
    "    'tf__max_features': [None, 1_000, 2_000, 4_000, 8_000], \n",
    "    'tf__min_df': [1, 2, 3], \n",
    "    'tf__max_df': [1.0, .75, .85, .95],\n",
    "    'tf__ngram_range': [(1, 1), (1, 2), (1,3)]\n",
    "}"
   ]
  },
  {
   "cell_type": "code",
   "execution_count": 46,
   "id": "a3fa14eb-9881-472d-91a1-b885fd9eefdd",
   "metadata": {},
   "outputs": [],
   "source": [
    "#instantiating GridSearchCV.\n",
    "gs_tf = GridSearchCV(pipe_tfid_nb, \n",
    "                  param_grid = pipe_params, \n",
    "                  cv = 5, \n",
    "                  verbose = 1)"
   ]
  },
  {
   "cell_type": "code",
   "execution_count": 47,
   "id": "f8143351-cf0d-494f-b603-8c0d2a7dd61f",
   "metadata": {},
   "outputs": [
    {
     "name": "stdout",
     "output_type": "stream",
     "text": [
      "Fitting 5 folds for each of 180 candidates, totalling 900 fits\n"
     ]
    },
    {
     "data": {
      "text/plain": [
       "{'tf__max_df': 1.0,\n",
       " 'tf__max_features': None,\n",
       " 'tf__min_df': 1,\n",
       " 'tf__ngram_range': (1, 3)}"
      ]
     },
     "execution_count": 47,
     "metadata": {},
     "output_type": "execute_result"
    }
   ],
   "source": [
    "#Fit GridSearch to training data.\n",
    "gs_tf.fit(X_train, y_train)\n",
    "gs_tf.best_params_"
   ]
  },
  {
   "cell_type": "code",
   "execution_count": 48,
   "id": "7e28cfa6-0844-4c4f-8d8b-2cbb8f1a995c",
   "metadata": {},
   "outputs": [
    {
     "data": {
      "text/plain": [
       "0.7526091328619873"
      ]
     },
     "execution_count": 48,
     "metadata": {},
     "output_type": "execute_result"
    }
   ],
   "source": [
    "gs_tf.best_score_"
   ]
  },
  {
   "cell_type": "code",
   "execution_count": 49,
   "id": "a22d423f-9b18-4f5c-b59a-5b8095b328d3",
   "metadata": {},
   "outputs": [
    {
     "data": {
      "text/plain": [
       "(0.9762469503930604, 0.752287050213458)"
      ]
     },
     "execution_count": 49,
     "metadata": {},
     "output_type": "execute_result"
    }
   ],
   "source": [
    "gs_tf.score(X_train, y_train), gs_tf.score(X_test, y_test)"
   ]
  },
  {
   "cell_type": "markdown",
   "id": "5be9dc69-ab73-4d94-940c-cbc6ae0f1ec7",
   "metadata": {},
   "source": [
    "**Model Evaluation**"
   ]
  },
  {
   "cell_type": "code",
   "execution_count": 50,
   "id": "1e7ff60c-b6ab-485a-8b7d-1b53fd24f7af",
   "metadata": {},
   "outputs": [],
   "source": [
    "#predictions:\n",
    "preds = gs_tf.predict(X_test)\n",
    "\n",
    "#conf. matrix values:\n",
    "tn, fp, fn, tp = confusion_matrix(y_test, preds).ravel()"
   ]
  },
  {
   "cell_type": "code",
   "execution_count": 51,
   "id": "7855bff9-f4aa-4ea8-bd52-479b8ee14fb0",
   "metadata": {},
   "outputs": [
    {
     "name": "stdout",
     "output_type": "stream",
     "text": [
      "              precision    recall  f1-score   support\n",
      "\n",
      "           0       0.81      0.65      0.72      4902\n",
      "           1       0.71      0.85      0.78      4936\n",
      "\n",
      "    accuracy                           0.75      9838\n",
      "   macro avg       0.76      0.75      0.75      9838\n",
      "weighted avg       0.76      0.75      0.75      9838\n",
      "\n"
     ]
    }
   ],
   "source": [
    "print(classification_report(y_test, preds))"
   ]
  },
  {
   "cell_type": "code",
   "execution_count": 52,
   "id": "5b057533-1a11-42f5-999f-ae424eaaf065",
   "metadata": {
    "tags": []
   },
   "outputs": [
    {
     "data": {
      "image/png": "[encoded data removed]",
      "text/plain": [
       "<Figure size 432x288 with 2 Axes>"
      ]
     },
     "metadata": {
      "needs_background": "light"
     },
     "output_type": "display_data"
    }
   ],
   "source": [
    "plot_confusion_matrix(gs_tf, X_test, y_test, cmap = 'viridis');"
   ]
  },
  {
   "cell_type": "markdown",
   "id": "228eb730-6312-4919-b527-a1891388e49a",
   "metadata": {},
   "source": [
    "**Most Influential Words**"
   ]
  },
  {
   "cell_type": "code",
   "execution_count": 88,
   "id": "826a10c0-65c1-4789-aa43-c23a3e5822fe",
   "metadata": {},
   "outputs": [
    {
     "data": {
      "text/plain": [
       "Index(['maybe', 'world', 'fun', 'let', 'group', 'work', 'rules', 'characters',\n",
       "       'feel', 'having', 'run', 'story', 'long', 'session', 'spells', 'try',\n",
       "       'new', 'idea', 'sure', 'actually'],\n",
       "      dtype='object')"
      ]
     },
     "execution_count": 88,
     "metadata": {},
     "output_type": "execute_result"
    }
   ],
   "source": [
    "nb_influ = nb_feats.sort_values(by = 'coef_', ascending = False).head(20).index\n",
    "nb_influ"
   ]
  },
  {
   "cell_type": "code",
   "execution_count": 89,
   "id": "8370f453-e2f9-4da9-ace6-ea4d8a2e4836",
   "metadata": {},
   "outputs": [
    {
     "data": {
      "text/plain": [
       "Index(['world', 'maybe', 'fun', 'thanks', 'let', 'idea', 'rules', 'work',\n",
       "       'group', 'great', 'right', 'characters', 'feel', 'sure', 'story',\n",
       "       'session', 'run', 'having', 'new', 'bad'],\n",
       "      dtype='object')"
      ]
     },
     "execution_count": 89,
     "metadata": {},
     "output_type": "execute_result"
    }
   ],
   "source": [
    "nb_tf_influ = nb_tf_feats.sort_values(by = 'coef_', ascending = False).head(20).index\n",
    "nb_tf_influ"
   ]
  },
  {
   "cell_type": "code",
   "execution_count": 90,
   "id": "8c9b6a49-4d35-4110-bb74-6645c4df18ab",
   "metadata": {},
   "outputs": [
    {
     "data": {
      "text/plain": [
       "Index(['torture', 'conclave', 'paralyzed', 'enforce', 'governs', 'generator',\n",
       "       'vtt', 'unsatisfying', 'lake', 'fleshed', 'tweak', 'blind', 'flag',\n",
       "       'coins', 'blindness', 'grove', 'niches', 'hydra', 'scatter',\n",
       "       'charlatan'],\n",
       "      dtype='object')"
      ]
     },
     "execution_count": 90,
     "metadata": {},
     "output_type": "execute_result"
    }
   ],
   "source": [
    "lr_influ = lr_feats.sort_values(by = 'coef_', ascending = False).head(20).index\n",
    "lr_influ"
   ]
  },
  {
   "cell_type": "code",
   "execution_count": 91,
   "id": "510927f3-f4d9-4a77-ba16-215f4c6be9e9",
   "metadata": {},
   "outputs": [
    {
     "data": {
      "text/plain": [
       "Index(['torture', 'blind', 'advice', 'perception', 'world', 'goliath',\n",
       "       'tarrasque', 'timer', 'conclave', 'roll20', 'let', 'vtt', 'trap',\n",
       "       'paralyzed', 'idea', 'wants', 'god', 'creativity', 'array', 'traps'],\n",
       "      dtype='object')"
      ]
     },
     "execution_count": 91,
     "metadata": {},
     "output_type": "execute_result"
    }
   ],
   "source": [
    "lr_tf_influ = lr_tf_feats.sort_values(by = 'coef_', ascending = False).head(20).index\n",
    "lr_tf_influ"
   ]
  },
  {
   "cell_type": "code",
   "execution_count": 92,
   "id": "c4b06148-702f-4bb0-844f-71574994c9b3",
   "metadata": {},
   "outputs": [],
   "source": [
    "#https://www.geeksforgeeks.org/python-intersection-two-lists/\n",
    "def union(list_1, list_2):\n",
    "    return set(list_1).intersection(list_2)"
   ]
  },
  {
   "cell_type": "code",
   "execution_count": 96,
   "id": "e0522ae9-8cab-4c3d-8f12-b6c2894dad13",
   "metadata": {},
   "outputs": [
    {
     "data": {
      "text/plain": [
       "{'characters',\n",
       " 'feel',\n",
       " 'fun',\n",
       " 'group',\n",
       " 'having',\n",
       " 'idea',\n",
       " 'let',\n",
       " 'maybe',\n",
       " 'new',\n",
       " 'rules',\n",
       " 'run',\n",
       " 'session',\n",
       " 'story',\n",
       " 'sure',\n",
       " 'work',\n",
       " 'world'}"
      ]
     },
     "execution_count": 96,
     "metadata": {},
     "output_type": "execute_result"
    }
   ],
   "source": [
    "nb_union = union(nb_influ, nb_tf_influ)\n",
    "nb_union "
   ]
  },
  {
   "cell_type": "code",
   "execution_count": 97,
   "id": "539596a1-57f1-47fb-aee4-8053c4ebb92f",
   "metadata": {},
   "outputs": [
    {
     "data": {
      "text/plain": [
       "{'blind', 'conclave', 'paralyzed', 'torture', 'vtt'}"
      ]
     },
     "execution_count": 97,
     "metadata": {},
     "output_type": "execute_result"
    }
   ],
   "source": [
    "lr_union = union(lr_influ, lr_tf_influ)\n",
    "lr_union "
   ]
  },
  {
   "cell_type": "code",
   "execution_count": 98,
   "id": "c89ad16e-c86e-4e1e-a845-81564c8add4b",
   "metadata": {},
   "outputs": [
    {
     "data": {
      "text/plain": [
       "set()"
      ]
     },
     "execution_count": 98,
     "metadata": {},
     "output_type": "execute_result"
    }
   ],
   "source": [
    "union(nb_union, lr_union)"
   ]
  },
  {
   "cell_type": "code",
   "execution_count": 100,
   "id": "1d47f7fd-7a5d-43f7-879c-4ffb492c13e8",
   "metadata": {},
   "outputs": [
    {
     "data": {
      "text/plain": [
       "{'idea', 'let', 'world'}"
      ]
     },
     "execution_count": 100,
     "metadata": {},
     "output_type": "execute_result"
    }
   ],
   "source": [
    "tf_union = union(nb_tf_influ, lr_tf_influ)\n",
    "tf_union"
   ]
  }
 ],
 "metadata": {
  "kernelspec": {
   "display_name": "Python 3",
   "language": "python",
   "name": "python3"
  },
  "language_info": {
   "codemirror_mode": {
    "name": "ipython",
    "version": 3
   },
   "file_extension": ".py",
   "mimetype": "text/x-python",
   "name": "python",
   "nbconvert_exporter": "python",
   "pygments_lexer": "ipython3",
   "version": "3.8.8"
  }
 },
 "nbformat": 4,
 "nbformat_minor": 5
}
