{
 "cells": [
  {
   "cell_type": "markdown",
   "id": "e999e50a-e8c9-47d4-9180-ed086c5c83a8",
   "metadata": {},
   "source": [
    "## Data Cleaning ##"
   ]
  },
  {
   "cell_type": "markdown",
   "id": "9c17565d-d7cf-41f0-85f8-8819345f4c6b",
   "metadata": {},
   "source": [
    "**Imports for Data Importing/Exploring**"
   ]
  },
  {
   "cell_type": "code",
   "execution_count": 1,
   "id": "74bddfc6-d437-4eee-84a7-93e7dde315db",
   "metadata": {},
   "outputs": [],
   "source": [
    "import pandas as pd\n",
    "import numpy as np\n",
    "import matplotlib.pyplot as plt\n",
    "import seaborn as sns\n",
    "sns.set(style=\"darkgrid\")"
   ]
  },
  {
   "cell_type": "code",
   "execution_count": 2,
   "id": "6e4a0306-1032-496d-b50f-dff553f91d0d",
   "metadata": {},
   "outputs": [],
   "source": [
    "#reading in csv file\n",
    "df = pd.read_csv('./csv_files/comms_orginal.csv')"
   ]
  },
  {
   "cell_type": "code",
   "execution_count": 3,
   "id": "135ad286-7710-4db6-a736-2626e43e5f1a",
   "metadata": {},
   "outputs": [
    {
     "data": {
      "text/html": [
       "<div>\n",
       "<style scoped>\n",
       "    .dataframe tbody tr th:only-of-type {\n",
       "        vertical-align: middle;\n",
       "    }\n",
       "\n",
       "    .dataframe tbody tr th {\n",
       "        vertical-align: top;\n",
       "    }\n",
       "\n",
       "    .dataframe thead th {\n",
       "        text-align: right;\n",
       "    }\n",
       "</style>\n",
       "<table border=\"1\" class=\"dataframe\">\n",
       "  <thead>\n",
       "    <tr style=\"text-align: right;\">\n",
       "      <th></th>\n",
       "      <th>subreddit</th>\n",
       "      <th>author</th>\n",
       "      <th>body</th>\n",
       "      <th>created_utc</th>\n",
       "    </tr>\n",
       "  </thead>\n",
       "  <tbody>\n",
       "    <tr>\n",
       "      <th>0</th>\n",
       "      <td>dndnext</td>\n",
       "      <td>DMPatrick</td>\n",
       "      <td>Well first of all, if that's the only way you ...</td>\n",
       "      <td>1635356097</td>\n",
       "    </tr>\n",
       "    <tr>\n",
       "      <th>1</th>\n",
       "      <td>dndnext</td>\n",
       "      <td>whitetempest521</td>\n",
       "      <td>The feat is where almost the entire power budg...</td>\n",
       "      <td>1635356068</td>\n",
       "    </tr>\n",
       "    <tr>\n",
       "      <th>2</th>\n",
       "      <td>dndnext</td>\n",
       "      <td>Th1nker26</td>\n",
       "      <td>Oh I don't think it's a problem. I thought the...</td>\n",
       "      <td>1635356043</td>\n",
       "    </tr>\n",
       "  </tbody>\n",
       "</table>\n",
       "</div>"
      ],
      "text/plain": [
       "  subreddit           author  \\\n",
       "0   dndnext        DMPatrick   \n",
       "1   dndnext  whitetempest521   \n",
       "2   dndnext        Th1nker26   \n",
       "\n",
       "                                                body  created_utc  \n",
       "0  Well first of all, if that's the only way you ...   1635356097  \n",
       "1  The feat is where almost the entire power budg...   1635356068  \n",
       "2  Oh I don't think it's a problem. I thought the...   1635356043  "
      ]
     },
     "execution_count": 3,
     "metadata": {},
     "output_type": "execute_result"
    }
   ],
   "source": [
    "#displaying first three rows\n",
    "df.head(3)"
   ]
  },
  {
   "cell_type": "code",
   "execution_count": 4,
   "id": "93393e6c-a434-4336-b537-466724c8a18d",
   "metadata": {},
   "outputs": [],
   "source": [
    "#dropping 'created_utc' \n",
    "df.drop(['created_utc'], axis = 1, inplace = True)"
   ]
  },
  {
   "cell_type": "code",
   "execution_count": 5,
   "id": "923ddec6-14cc-4304-a3bc-80efab85e986",
   "metadata": {},
   "outputs": [
    {
     "data": {
      "text/plain": [
       "dndnext      20000\n",
       "DMAcademy    19999\n",
       "Name: subreddit, dtype: int64"
      ]
     },
     "execution_count": 5,
     "metadata": {},
     "output_type": "execute_result"
    }
   ],
   "source": [
    "#confirming value_counts for subreddit is evenly split\n",
    "df['subreddit'].value_counts()"
   ]
  },
  {
   "cell_type": "code",
   "execution_count": 6,
   "id": "621aff48-f82e-46b5-8f34-7e1631bedf9e",
   "metadata": {},
   "outputs": [
    {
     "data": {
      "text/plain": [
       "dndnext      0.500013\n",
       "DMAcademy    0.499987\n",
       "Name: subreddit, dtype: float64"
      ]
     },
     "execution_count": 6,
     "metadata": {},
     "output_type": "execute_result"
    }
   ],
   "source": [
    "#checking to see if classes still balanced\n",
    "df['subreddit'].value_counts(normalize = True)"
   ]
  },
  {
   "cell_type": "code",
   "execution_count": 7,
   "id": "310e7ae8-5b91-4e39-8e38-6cb07f9f4fe5",
   "metadata": {},
   "outputs": [
    {
     "data": {
      "text/plain": [
       "subreddit    0\n",
       "author       0\n",
       "body         0\n",
       "dtype: int64"
      ]
     },
     "execution_count": 7,
     "metadata": {},
     "output_type": "execute_result"
    }
   ],
   "source": [
    "#checking for null values\n",
    "df.isna().sum().sort_values(ascending = False)"
   ]
  },
  {
   "cell_type": "code",
   "execution_count": 8,
   "id": "f5552a08-e1e5-48bc-9137-e4f934c79639",
   "metadata": {},
   "outputs": [],
   "source": [
    "#setting our target 'subreddit' to map values to 0 and 1:\n",
    "df['subreddit'] = df['subreddit'].map({'dndnext': 0,\n",
    "                                       'DMAcademy': 1})"
   ]
  },
  {
   "cell_type": "code",
   "execution_count": 9,
   "id": "368a82e4-99c1-438c-b862-121506f1e03b",
   "metadata": {},
   "outputs": [
    {
     "data": {
      "text/html": [
       "<div>\n",
       "<style scoped>\n",
       "    .dataframe tbody tr th:only-of-type {\n",
       "        vertical-align: middle;\n",
       "    }\n",
       "\n",
       "    .dataframe tbody tr th {\n",
       "        vertical-align: top;\n",
       "    }\n",
       "\n",
       "    .dataframe thead th {\n",
       "        text-align: right;\n",
       "    }\n",
       "</style>\n",
       "<table border=\"1\" class=\"dataframe\">\n",
       "  <thead>\n",
       "    <tr style=\"text-align: right;\">\n",
       "      <th></th>\n",
       "      <th>subreddit</th>\n",
       "      <th>author</th>\n",
       "      <th>body</th>\n",
       "    </tr>\n",
       "  </thead>\n",
       "  <tbody>\n",
       "    <tr>\n",
       "      <th>0</th>\n",
       "      <td>0</td>\n",
       "      <td>DMPatrick</td>\n",
       "      <td>Well first of all, if that's the only way you ...</td>\n",
       "    </tr>\n",
       "    <tr>\n",
       "      <th>1</th>\n",
       "      <td>0</td>\n",
       "      <td>whitetempest521</td>\n",
       "      <td>The feat is where almost the entire power budg...</td>\n",
       "    </tr>\n",
       "    <tr>\n",
       "      <th>2</th>\n",
       "      <td>0</td>\n",
       "      <td>Th1nker26</td>\n",
       "      <td>Oh I don't think it's a problem. I thought the...</td>\n",
       "    </tr>\n",
       "  </tbody>\n",
       "</table>\n",
       "</div>"
      ],
      "text/plain": [
       "   subreddit           author  \\\n",
       "0          0        DMPatrick   \n",
       "1          0  whitetempest521   \n",
       "2          0        Th1nker26   \n",
       "\n",
       "                                                body  \n",
       "0  Well first of all, if that's the only way you ...  \n",
       "1  The feat is where almost the entire power budg...  \n",
       "2  Oh I don't think it's a problem. I thought the...  "
      ]
     },
     "execution_count": 9,
     "metadata": {},
     "output_type": "execute_result"
    }
   ],
   "source": [
    "df.head(3)"
   ]
  },
  {
   "cell_type": "code",
   "execution_count": 10,
   "id": "c5bd139c-6133-40b0-ae3e-a7024fae7ab9",
   "metadata": {},
   "outputs": [
    {
     "name": "stdout",
     "output_type": "stream",
     "text": [
      "<class 'pandas.core.frame.DataFrame'>\n",
      "RangeIndex: 39999 entries, 0 to 39998\n",
      "Data columns (total 3 columns):\n",
      " #   Column     Non-Null Count  Dtype \n",
      "---  ------     --------------  ----- \n",
      " 0   subreddit  39999 non-null  int64 \n",
      " 1   author     39999 non-null  object\n",
      " 2   body       39999 non-null  object\n",
      "dtypes: int64(1), object(2)\n",
      "memory usage: 937.6+ KB\n"
     ]
    }
   ],
   "source": [
    "#checking the data types of columns:\n",
    "df.info()"
   ]
  },
  {
   "cell_type": "code",
   "execution_count": 11,
   "id": "d2075854-5087-4cd9-a5b4-3d7ca2b5f5f1",
   "metadata": {},
   "outputs": [
    {
     "data": {
      "text/plain": [
       "797"
      ]
     },
     "execution_count": 11,
     "metadata": {},
     "output_type": "execute_result"
    }
   ],
   "source": [
    "#checking instances of duplicated comments:\n",
    "df['body'].duplicated().sum()"
   ]
  },
  {
   "cell_type": "code",
   "execution_count": 12,
   "id": "6c709cc0-7814-4270-8d56-8486ac1044ad",
   "metadata": {},
   "outputs": [
    {
     "data": {
      "text/plain": [
       "[deleted]              599\n",
       "lasalle202             218\n",
       "Cpt_Tsundere_Sharks    176\n",
       "Ishigami-the-Kami      120\n",
       "ReturnToFroggee        117\n",
       "                      ... \n",
       "seraosha                 1\n",
       "ThePotatoMuffin347       1\n",
       "Count_Backwards          1\n",
       "ProfNesbitt              1\n",
       "bigmyq                   1\n",
       "Name: author, Length: 12143, dtype: int64"
      ]
     },
     "execution_count": 12,
     "metadata": {},
     "output_type": "execute_result"
    }
   ],
   "source": [
    "#taking a quick look at author counts for my own sake\n",
    "df['author'].value_counts().sort_values(ascending = False)\n",
    "\n",
    "#use later to see if subreddit mods drive comments?"
   ]
  },
  {
   "cell_type": "code",
   "execution_count": 13,
   "id": "0cce582c-1665-4ca1-bee0-139453cdd098",
   "metadata": {},
   "outputs": [
    {
     "data": {
      "text/html": [
       "<div>\n",
       "<style scoped>\n",
       "    .dataframe tbody tr th:only-of-type {\n",
       "        vertical-align: middle;\n",
       "    }\n",
       "\n",
       "    .dataframe tbody tr th {\n",
       "        vertical-align: top;\n",
       "    }\n",
       "\n",
       "    .dataframe thead th {\n",
       "        text-align: right;\n",
       "    }\n",
       "</style>\n",
       "<table border=\"1\" class=\"dataframe\">\n",
       "  <thead>\n",
       "    <tr style=\"text-align: right;\">\n",
       "      <th></th>\n",
       "      <th>subreddit</th>\n",
       "      <th>author</th>\n",
       "      <th>body</th>\n",
       "    </tr>\n",
       "  </thead>\n",
       "  <tbody>\n",
       "    <tr>\n",
       "      <th>2801</th>\n",
       "      <td>0</td>\n",
       "      <td>BlackAceX13</td>\n",
       "      <td>&amp;gt; Where WOTC arbitrarily threw out balance ...</td>\n",
       "    </tr>\n",
       "    <tr>\n",
       "      <th>2802</th>\n",
       "      <td>0</td>\n",
       "      <td>BlackAceX13</td>\n",
       "      <td>&amp;gt; Where WOTC arbitrarily threw out balance ...</td>\n",
       "    </tr>\n",
       "    <tr>\n",
       "      <th>12049</th>\n",
       "      <td>0</td>\n",
       "      <td>WikiSummarizerBot</td>\n",
       "      <td>**[Tom Stoltman](https://en.wikipedia.org/wiki...</td>\n",
       "    </tr>\n",
       "    <tr>\n",
       "      <th>12054</th>\n",
       "      <td>0</td>\n",
       "      <td>WikiSummarizerBot</td>\n",
       "      <td>**[Tom Stoltman](https://en.wikipedia.org/wiki...</td>\n",
       "    </tr>\n",
       "    <tr>\n",
       "      <th>4337</th>\n",
       "      <td>0</td>\n",
       "      <td>AwsmDevil</td>\n",
       "      <td>*oh my god*</td>\n",
       "    </tr>\n",
       "    <tr>\n",
       "      <th>...</th>\n",
       "      <td>...</td>\n",
       "      <td>...</td>\n",
       "      <td>...</td>\n",
       "    </tr>\n",
       "    <tr>\n",
       "      <th>31153</th>\n",
       "      <td>1</td>\n",
       "      <td>Jordy_Rabitart</td>\n",
       "      <td>thanks!</td>\n",
       "    </tr>\n",
       "    <tr>\n",
       "      <th>31157</th>\n",
       "      <td>1</td>\n",
       "      <td>Jordy_Rabitart</td>\n",
       "      <td>thanks!</td>\n",
       "    </tr>\n",
       "    <tr>\n",
       "      <th>31167</th>\n",
       "      <td>1</td>\n",
       "      <td>Jordy_Rabitart</td>\n",
       "      <td>thanks!</td>\n",
       "    </tr>\n",
       "    <tr>\n",
       "      <th>11389</th>\n",
       "      <td>0</td>\n",
       "      <td>Sten4321</td>\n",
       "      <td>you can switch you the proficiencies of backgr...</td>\n",
       "    </tr>\n",
       "    <tr>\n",
       "      <th>11391</th>\n",
       "      <td>0</td>\n",
       "      <td>Sten4321</td>\n",
       "      <td>you can switch you the proficiencies of backgr...</td>\n",
       "    </tr>\n",
       "  </tbody>\n",
       "</table>\n",
       "<p>908 rows × 3 columns</p>\n",
       "</div>"
      ],
      "text/plain": [
       "       subreddit             author  \\\n",
       "2801           0        BlackAceX13   \n",
       "2802           0        BlackAceX13   \n",
       "12049          0  WikiSummarizerBot   \n",
       "12054          0  WikiSummarizerBot   \n",
       "4337           0          AwsmDevil   \n",
       "...          ...                ...   \n",
       "31153          1     Jordy_Rabitart   \n",
       "31157          1     Jordy_Rabitart   \n",
       "31167          1     Jordy_Rabitart   \n",
       "11389          0           Sten4321   \n",
       "11391          0           Sten4321   \n",
       "\n",
       "                                                    body  \n",
       "2801   &gt; Where WOTC arbitrarily threw out balance ...  \n",
       "2802   &gt; Where WOTC arbitrarily threw out balance ...  \n",
       "12049  **[Tom Stoltman](https://en.wikipedia.org/wiki...  \n",
       "12054  **[Tom Stoltman](https://en.wikipedia.org/wiki...  \n",
       "4337                                         *oh my god*  \n",
       "...                                                  ...  \n",
       "31153                                            thanks!  \n",
       "31157                                            thanks!  \n",
       "31167                                            thanks!  \n",
       "11389  you can switch you the proficiencies of backgr...  \n",
       "11391  you can switch you the proficiencies of backgr...  \n",
       "\n",
       "[908 rows x 3 columns]"
      ]
     },
     "execution_count": 13,
     "metadata": {},
     "output_type": "execute_result"
    }
   ],
   "source": [
    "#looking at the instances of duplicated comments:\n",
    "\n",
    "#https://stackoverflow.com/questions/14657241/how-do-i-get-a-list-of-all-the-duplicate-items-using-pandas-in-python\n",
    "dups_df = pd.concat(g for _, g in df.groupby('body') if len(g) > 1)\n",
    "dups_df\n",
    "\n",
    "#some instances of repeat/dup posts are individuals posting the same post on each of the two subreddits,\n",
    "#is that truly dup? Looking at these posts I'm going to keep the dups with the exception of the posts\n",
    "#'[removed]'"
   ]
  },
  {
   "cell_type": "code",
   "execution_count": 14,
   "id": "3af6bed9-789d-4069-8560-1ec7fcf40c27",
   "metadata": {},
   "outputs": [
    {
     "data": {
      "text/plain": [
       "[deleted]     497\n",
       "[removed]      82\n",
       "Thank you!     21\n",
       "Thank you.     15\n",
       "Thanks!        12\n",
       "No             11\n",
       "Yes            10\n",
       "Yes.           10\n",
       "Thanks          7\n",
       "Thanks.         5\n",
       "Name: body, dtype: int64"
      ]
     },
     "execution_count": 14,
     "metadata": {},
     "output_type": "execute_result"
    }
   ],
   "source": [
    "#looking at the top ten most frequent duplicates:\n",
    "dups_df['body'].value_counts()[:10]"
   ]
  },
  {
   "cell_type": "code",
   "execution_count": 15,
   "id": "4834fdb0-5464-4a5a-b75b-2e26ceb5b686",
   "metadata": {},
   "outputs": [
    {
     "data": {
      "text/html": [
       "<div>\n",
       "<style scoped>\n",
       "    .dataframe tbody tr th:only-of-type {\n",
       "        vertical-align: middle;\n",
       "    }\n",
       "\n",
       "    .dataframe tbody tr th {\n",
       "        vertical-align: top;\n",
       "    }\n",
       "\n",
       "    .dataframe thead th {\n",
       "        text-align: right;\n",
       "    }\n",
       "</style>\n",
       "<table border=\"1\" class=\"dataframe\">\n",
       "  <thead>\n",
       "    <tr style=\"text-align: right;\">\n",
       "      <th></th>\n",
       "      <th>subreddit</th>\n",
       "      <th>author</th>\n",
       "      <th>body</th>\n",
       "    </tr>\n",
       "  </thead>\n",
       "  <tbody>\n",
       "    <tr>\n",
       "      <th>68</th>\n",
       "      <td>0</td>\n",
       "      <td>[deleted]</td>\n",
       "      <td>[deleted]</td>\n",
       "    </tr>\n",
       "    <tr>\n",
       "      <th>181</th>\n",
       "      <td>0</td>\n",
       "      <td>[deleted]</td>\n",
       "      <td>[deleted]</td>\n",
       "    </tr>\n",
       "    <tr>\n",
       "      <th>215</th>\n",
       "      <td>0</td>\n",
       "      <td>[deleted]</td>\n",
       "      <td>[deleted]</td>\n",
       "    </tr>\n",
       "  </tbody>\n",
       "</table>\n",
       "</div>"
      ],
      "text/plain": [
       "     subreddit     author       body\n",
       "68           0  [deleted]  [deleted]\n",
       "181          0  [deleted]  [deleted]\n",
       "215          0  [deleted]  [deleted]"
      ]
     },
     "execution_count": 15,
     "metadata": {},
     "output_type": "execute_result"
    }
   ],
   "source": [
    "#deleting instances of [deleted] and [removed]:\n",
    "df.loc[df['body'] == '[deleted]'].head(3)"
   ]
  },
  {
   "cell_type": "code",
   "execution_count": 16,
   "id": "96fdf9db-cea0-4104-b505-1e30ff98cb32",
   "metadata": {},
   "outputs": [
    {
     "data": {
      "text/html": [
       "<div>\n",
       "<style scoped>\n",
       "    .dataframe tbody tr th:only-of-type {\n",
       "        vertical-align: middle;\n",
       "    }\n",
       "\n",
       "    .dataframe tbody tr th {\n",
       "        vertical-align: top;\n",
       "    }\n",
       "\n",
       "    .dataframe thead th {\n",
       "        text-align: right;\n",
       "    }\n",
       "</style>\n",
       "<table border=\"1\" class=\"dataframe\">\n",
       "  <thead>\n",
       "    <tr style=\"text-align: right;\">\n",
       "      <th></th>\n",
       "      <th>subreddit</th>\n",
       "      <th>author</th>\n",
       "      <th>body</th>\n",
       "    </tr>\n",
       "  </thead>\n",
       "  <tbody>\n",
       "    <tr>\n",
       "      <th>2661</th>\n",
       "      <td>0</td>\n",
       "      <td>[deleted]</td>\n",
       "      <td>[removed]</td>\n",
       "    </tr>\n",
       "    <tr>\n",
       "      <th>2849</th>\n",
       "      <td>0</td>\n",
       "      <td>[deleted]</td>\n",
       "      <td>[removed]</td>\n",
       "    </tr>\n",
       "    <tr>\n",
       "      <th>3158</th>\n",
       "      <td>0</td>\n",
       "      <td>[deleted]</td>\n",
       "      <td>[removed]</td>\n",
       "    </tr>\n",
       "  </tbody>\n",
       "</table>\n",
       "</div>"
      ],
      "text/plain": [
       "      subreddit     author       body\n",
       "2661          0  [deleted]  [removed]\n",
       "2849          0  [deleted]  [removed]\n",
       "3158          0  [deleted]  [removed]"
      ]
     },
     "execution_count": 16,
     "metadata": {},
     "output_type": "execute_result"
    }
   ],
   "source": [
    "df.loc[df['body'] == '[removed]'].head(3)"
   ]
  },
  {
   "cell_type": "code",
   "execution_count": 17,
   "id": "dea66132-1d9b-4728-b9b3-2306134c95ae",
   "metadata": {},
   "outputs": [
    {
     "data": {
      "text/plain": [
       "No                11\n",
       "Yes.              10\n",
       "Yes               10\n",
       "Thanks             7\n",
       "I participate!     5\n",
       "Name: body, dtype: int64"
      ]
     },
     "execution_count": 17,
     "metadata": {},
     "output_type": "execute_result"
    }
   ],
   "source": [
    "#cleaner way to remove duplicates:\n",
    "df = df[df.body != '[deleted]']\n",
    "df = df[df.body != '[removed]']\n",
    "df = df[df.body != 'Thank you!']\n",
    "df = df[df.body != 'Thank you.']\n",
    "df = df[df.body != 'Thanks!']\n",
    "\n",
    "df['body'].value_counts()[:5]"
   ]
  },
  {
   "cell_type": "code",
   "execution_count": 18,
   "id": "ff1f617a-c80e-4a6c-bb57-9ddc5169f103",
   "metadata": {},
   "outputs": [
    {
     "data": {
      "text/plain": [
       "(39372, 3)"
      ]
     },
     "execution_count": 18,
     "metadata": {},
     "output_type": "execute_result"
    }
   ],
   "source": [
    "df.shape"
   ]
  },
  {
   "cell_type": "markdown",
   "id": "fd2f864d-92f3-4a46-9751-36606626c692",
   "metadata": {},
   "source": [
    "**Sentiment Analysis**"
   ]
  },
  {
   "cell_type": "code",
   "execution_count": 19,
   "id": "575f807f-b365-40ce-95ce-b6c7682c064e",
   "metadata": {},
   "outputs": [],
   "source": [
    "#imports for sentiment analysis\n",
    "\n",
    "import nltk\n",
    "from nltk.sentiment.vader import SentimentIntensityAnalyzer"
   ]
  },
  {
   "cell_type": "code",
   "execution_count": 20,
   "id": "b18f7dff-f914-4670-a345-335f15c8b484",
   "metadata": {},
   "outputs": [
    {
     "data": {
      "text/plain": [
       "\"Well first of all, if that's the only way you find enjoyment then that's okay. You can play all of your characters that way if that's how you have fun.\\n\\nBut a few thoughts and suggestions that might help... \\n\\nFill out the traits, bonds, flaws, and ideals on your character sheets and refer back to them regularly.  If you're playing a character who shoots first and asks questions later, write that down! It helps to have some writen words to keep you in character.\\n\\nPerhaps a moot suggestion but try using a voice or accent. This will help mentally separate the character you're acting as from the real person you are. \\n\\nYou mention not wanting to feel evil a few times. But evil is subjective\""
      ]
     },
     "execution_count": 20,
     "metadata": {},
     "output_type": "execute_result"
    }
   ],
   "source": [
    "#taking a look at the first post:\n",
    "df['body'][0]\n",
    "\n",
    "#It appears it will be hard to analyze, lots of 'good' and 'bad' words"
   ]
  },
  {
   "cell_type": "code",
   "execution_count": 21,
   "id": "2029167d-2970-4bc8-b442-cb98ebe08b16",
   "metadata": {},
   "outputs": [],
   "source": [
    "sia = SentimentIntensityAnalyzer()"
   ]
  },
  {
   "cell_type": "code",
   "execution_count": 22,
   "id": "0dca358c-8c38-4416-8ff4-de95868da584",
   "metadata": {},
   "outputs": [],
   "source": [
    "#https://data-science-blog.com/en/blog/2018/11/04/sentiment-analysis-using-python/\n",
    "def sentiment(x):\n",
    "    return text(x).sentiment  \n",
    "\n",
    "#From link:\n",
    "#\"As it can be observed there are two scores: the first score is sentiment\n",
    "#polarity which tells if the sentiment is positive or negative and the\n",
    "#second score is subjectivity score to tell how subjective is the text.\""
   ]
  },
  {
   "cell_type": "code",
   "execution_count": 23,
   "id": "7e98c77c-fe99-4b79-9a71-e30ee831e23d",
   "metadata": {},
   "outputs": [
    {
     "data": {
      "text/plain": [
       "{'neg': 0.49, 'neu': 0.381, 'pos': 0.129, 'compound': -0.8225}"
      ]
     },
     "execution_count": 23,
     "metadata": {},
     "output_type": "execute_result"
    }
   ],
   "source": [
    "#for slide presentation:\n",
    "sia.polarity_scores('Our party viciously slaughtered the gang of evil goblins harming the village')"
   ]
  },
  {
   "cell_type": "code",
   "execution_count": 24,
   "id": "a7116a0e-9a6f-4c54-bdd4-6c5dd9d232d9",
   "metadata": {},
   "outputs": [],
   "source": [
    "#building an array of polarity scores to make into a dataframe:\n",
    "scores = []\n",
    "for comment in df['body']:\n",
    "    current_scores = sia.polarity_scores(comment)\n",
    "    scores.append(current_scores)"
   ]
  },
  {
   "cell_type": "code",
   "execution_count": 25,
   "id": "fe286f9b-9887-4677-a033-bf96f1abef11",
   "metadata": {},
   "outputs": [],
   "source": [
    "#making to polarity scores dataframe:\n",
    "scores_df = pd.DataFrame(scores)"
   ]
  },
  {
   "cell_type": "code",
   "execution_count": 26,
   "id": "444706eb-3514-43b0-862e-d4c926a38bb7",
   "metadata": {},
   "outputs": [
    {
     "data": {
      "text/html": [
       "<div>\n",
       "<style scoped>\n",
       "    .dataframe tbody tr th:only-of-type {\n",
       "        vertical-align: middle;\n",
       "    }\n",
       "\n",
       "    .dataframe tbody tr th {\n",
       "        vertical-align: top;\n",
       "    }\n",
       "\n",
       "    .dataframe thead th {\n",
       "        text-align: right;\n",
       "    }\n",
       "</style>\n",
       "<table border=\"1\" class=\"dataframe\">\n",
       "  <thead>\n",
       "    <tr style=\"text-align: right;\">\n",
       "      <th></th>\n",
       "      <th>neg</th>\n",
       "      <th>neu</th>\n",
       "      <th>pos</th>\n",
       "      <th>compound</th>\n",
       "    </tr>\n",
       "  </thead>\n",
       "  <tbody>\n",
       "    <tr>\n",
       "      <th>0</th>\n",
       "      <td>0.086</td>\n",
       "      <td>0.768</td>\n",
       "      <td>0.146</td>\n",
       "      <td>0.3802</td>\n",
       "    </tr>\n",
       "    <tr>\n",
       "      <th>1</th>\n",
       "      <td>0.034</td>\n",
       "      <td>0.934</td>\n",
       "      <td>0.032</td>\n",
       "      <td>-0.0657</td>\n",
       "    </tr>\n",
       "    <tr>\n",
       "      <th>2</th>\n",
       "      <td>0.078</td>\n",
       "      <td>0.793</td>\n",
       "      <td>0.129</td>\n",
       "      <td>0.0611</td>\n",
       "    </tr>\n",
       "  </tbody>\n",
       "</table>\n",
       "</div>"
      ],
      "text/plain": [
       "     neg    neu    pos  compound\n",
       "0  0.086  0.768  0.146    0.3802\n",
       "1  0.034  0.934  0.032   -0.0657\n",
       "2  0.078  0.793  0.129    0.0611"
      ]
     },
     "execution_count": 26,
     "metadata": {},
     "output_type": "execute_result"
    }
   ],
   "source": [
    "scores_df.head(3)"
   ]
  },
  {
   "cell_type": "code",
   "execution_count": 27,
   "id": "a48bc634-003a-449d-888e-f6c2a91d988e",
   "metadata": {},
   "outputs": [],
   "source": [
    "#concating scores with the comment to give frame of reference\n",
    "polarity_df = pd.concat([df, scores_df], axis = 1)\n",
    "polarity_df.drop(columns = ['author'], inplace = True)"
   ]
  },
  {
   "cell_type": "code",
   "execution_count": 28,
   "id": "a2c9c843-5599-4d9b-8ced-40913a720ff9",
   "metadata": {},
   "outputs": [
    {
     "data": {
      "text/html": [
       "<div>\n",
       "<style scoped>\n",
       "    .dataframe tbody tr th:only-of-type {\n",
       "        vertical-align: middle;\n",
       "    }\n",
       "\n",
       "    .dataframe tbody tr th {\n",
       "        vertical-align: top;\n",
       "    }\n",
       "\n",
       "    .dataframe thead th {\n",
       "        text-align: right;\n",
       "    }\n",
       "</style>\n",
       "<table border=\"1\" class=\"dataframe\">\n",
       "  <thead>\n",
       "    <tr style=\"text-align: right;\">\n",
       "      <th></th>\n",
       "      <th>subreddit</th>\n",
       "      <th>body</th>\n",
       "      <th>neg</th>\n",
       "      <th>neu</th>\n",
       "      <th>pos</th>\n",
       "      <th>compound</th>\n",
       "    </tr>\n",
       "  </thead>\n",
       "  <tbody>\n",
       "    <tr>\n",
       "      <th>0</th>\n",
       "      <td>0.0</td>\n",
       "      <td>Well first of all, if that's the only way you ...</td>\n",
       "      <td>0.086</td>\n",
       "      <td>0.768</td>\n",
       "      <td>0.146</td>\n",
       "      <td>0.3802</td>\n",
       "    </tr>\n",
       "    <tr>\n",
       "      <th>1</th>\n",
       "      <td>0.0</td>\n",
       "      <td>The feat is where almost the entire power budg...</td>\n",
       "      <td>0.034</td>\n",
       "      <td>0.934</td>\n",
       "      <td>0.032</td>\n",
       "      <td>-0.0657</td>\n",
       "    </tr>\n",
       "    <tr>\n",
       "      <th>2</th>\n",
       "      <td>0.0</td>\n",
       "      <td>Oh I don't think it's a problem. I thought the...</td>\n",
       "      <td>0.078</td>\n",
       "      <td>0.793</td>\n",
       "      <td>0.129</td>\n",
       "      <td>0.0611</td>\n",
       "    </tr>\n",
       "  </tbody>\n",
       "</table>\n",
       "</div>"
      ],
      "text/plain": [
       "   subreddit                                               body    neg    neu  \\\n",
       "0        0.0  Well first of all, if that's the only way you ...  0.086  0.768   \n",
       "1        0.0  The feat is where almost the entire power budg...  0.034  0.934   \n",
       "2        0.0  Oh I don't think it's a problem. I thought the...  0.078  0.793   \n",
       "\n",
       "     pos  compound  \n",
       "0  0.146    0.3802  \n",
       "1  0.032   -0.0657  \n",
       "2  0.129    0.0611  "
      ]
     },
     "execution_count": 28,
     "metadata": {},
     "output_type": "execute_result"
    }
   ],
   "source": [
    "polarity_df.head(3)"
   ]
  },
  {
   "cell_type": "markdown",
   "id": "8d4760ea-7fa9-4c51-8eb3-56263654e13d",
   "metadata": {},
   "source": [
    "Sentiment for 'dndnext':"
   ]
  },
  {
   "cell_type": "code",
   "execution_count": 29,
   "id": "5400bb94-31ab-49f3-96fc-c9cddbe2d48d",
   "metadata": {},
   "outputs": [
    {
     "data": {
      "text/html": [
       "<div>\n",
       "<style scoped>\n",
       "    .dataframe tbody tr th:only-of-type {\n",
       "        vertical-align: middle;\n",
       "    }\n",
       "\n",
       "    .dataframe tbody tr th {\n",
       "        vertical-align: top;\n",
       "    }\n",
       "\n",
       "    .dataframe thead th {\n",
       "        text-align: right;\n",
       "    }\n",
       "</style>\n",
       "<table border=\"1\" class=\"dataframe\">\n",
       "  <thead>\n",
       "    <tr style=\"text-align: right;\">\n",
       "      <th></th>\n",
       "      <th>subreddit</th>\n",
       "      <th>body</th>\n",
       "      <th>neg</th>\n",
       "      <th>neu</th>\n",
       "      <th>pos</th>\n",
       "      <th>compound</th>\n",
       "    </tr>\n",
       "  </thead>\n",
       "  <tbody>\n",
       "    <tr>\n",
       "      <th>1058</th>\n",
       "      <td>0.0</td>\n",
       "      <td>Seriously. Any character should be able to do ...</td>\n",
       "      <td>0.037</td>\n",
       "      <td>0.749</td>\n",
       "      <td>0.214</td>\n",
       "      <td>0.9991</td>\n",
       "    </tr>\n",
       "    <tr>\n",
       "      <th>8913</th>\n",
       "      <td>0.0</td>\n",
       "      <td>Samesies actually. It's cool to see other dnd ...</td>\n",
       "      <td>0.116</td>\n",
       "      <td>0.687</td>\n",
       "      <td>0.197</td>\n",
       "      <td>0.9989</td>\n",
       "    </tr>\n",
       "    <tr>\n",
       "      <th>4348</th>\n",
       "      <td>0.0</td>\n",
       "      <td>I am an Eberron fan. The creator of the settin...</td>\n",
       "      <td>0.083</td>\n",
       "      <td>0.651</td>\n",
       "      <td>0.266</td>\n",
       "      <td>0.9987</td>\n",
       "    </tr>\n",
       "    <tr>\n",
       "      <th>8077</th>\n",
       "      <td>0.0</td>\n",
       "      <td>Obviously this isn’t how you build a good myst...</td>\n",
       "      <td>0.072</td>\n",
       "      <td>0.717</td>\n",
       "      <td>0.211</td>\n",
       "      <td>0.9985</td>\n",
       "    </tr>\n",
       "    <tr>\n",
       "      <th>10993</th>\n",
       "      <td>0.0</td>\n",
       "      <td>Mercy monk is fine. It's healing, like all hea...</td>\n",
       "      <td>0.074</td>\n",
       "      <td>0.692</td>\n",
       "      <td>0.234</td>\n",
       "      <td>0.9984</td>\n",
       "    </tr>\n",
       "  </tbody>\n",
       "</table>\n",
       "</div>"
      ],
      "text/plain": [
       "       subreddit                                               body    neg  \\\n",
       "1058         0.0  Seriously. Any character should be able to do ...  0.037   \n",
       "8913         0.0  Samesies actually. It's cool to see other dnd ...  0.116   \n",
       "4348         0.0  I am an Eberron fan. The creator of the settin...  0.083   \n",
       "8077         0.0  Obviously this isn’t how you build a good myst...  0.072   \n",
       "10993        0.0  Mercy monk is fine. It's healing, like all hea...  0.074   \n",
       "\n",
       "         neu    pos  compound  \n",
       "1058   0.749  0.214    0.9991  \n",
       "8913   0.687  0.197    0.9989  \n",
       "4348   0.651  0.266    0.9987  \n",
       "8077   0.717  0.211    0.9985  \n",
       "10993  0.692  0.234    0.9984  "
      ]
     },
     "execution_count": 29,
     "metadata": {},
     "output_type": "execute_result"
    }
   ],
   "source": [
    "#sentiment scores for the 'dndnext' subreddit:\n",
    "polarity_df[polarity_df['subreddit'] == 0].sort_values(by = 'compound', ascending = False).head(5)"
   ]
  },
  {
   "cell_type": "code",
   "execution_count": 30,
   "id": "19a52f13-cd85-435d-bc21-deacbd68b23a",
   "metadata": {},
   "outputs": [
    {
     "data": {
      "text/html": [
       "<div>\n",
       "<style scoped>\n",
       "    .dataframe tbody tr th:only-of-type {\n",
       "        vertical-align: middle;\n",
       "    }\n",
       "\n",
       "    .dataframe tbody tr th {\n",
       "        vertical-align: top;\n",
       "    }\n",
       "\n",
       "    .dataframe thead th {\n",
       "        text-align: right;\n",
       "    }\n",
       "</style>\n",
       "<table border=\"1\" class=\"dataframe\">\n",
       "  <thead>\n",
       "    <tr style=\"text-align: right;\">\n",
       "      <th></th>\n",
       "      <th>subreddit</th>\n",
       "      <th>body</th>\n",
       "      <th>neg</th>\n",
       "      <th>neu</th>\n",
       "      <th>pos</th>\n",
       "      <th>compound</th>\n",
       "    </tr>\n",
       "  </thead>\n",
       "  <tbody>\n",
       "    <tr>\n",
       "      <th>132</th>\n",
       "      <td>0.0</td>\n",
       "      <td>&amp;gt; I'm not level 10 yet but you only get two...</td>\n",
       "      <td>1.0</td>\n",
       "      <td>0.0</td>\n",
       "      <td>0.0</td>\n",
       "      <td>-0.2960</td>\n",
       "    </tr>\n",
       "    <tr>\n",
       "      <th>19449</th>\n",
       "      <td>0.0</td>\n",
       "      <td>wanting to succeed rolls automatically sounds ...</td>\n",
       "      <td>1.0</td>\n",
       "      <td>0.0</td>\n",
       "      <td>0.0</td>\n",
       "      <td>-0.2732</td>\n",
       "    </tr>\n",
       "    <tr>\n",
       "      <th>16907</th>\n",
       "      <td>0.0</td>\n",
       "      <td>...it's been that way with physical CDs for ov...</td>\n",
       "      <td>1.0</td>\n",
       "      <td>0.0</td>\n",
       "      <td>0.0</td>\n",
       "      <td>-0.2960</td>\n",
       "    </tr>\n",
       "    <tr>\n",
       "      <th>8383</th>\n",
       "      <td>0.0</td>\n",
       "      <td>If it's combat heavy max con second, take thou...</td>\n",
       "      <td>1.0</td>\n",
       "      <td>0.0</td>\n",
       "      <td>0.0</td>\n",
       "      <td>-0.2960</td>\n",
       "    </tr>\n",
       "    <tr>\n",
       "      <th>13130</th>\n",
       "      <td>0.0</td>\n",
       "      <td>That is not a CR 18 encounter. It seems that t...</td>\n",
       "      <td>1.0</td>\n",
       "      <td>0.0</td>\n",
       "      <td>0.0</td>\n",
       "      <td>-0.4019</td>\n",
       "    </tr>\n",
       "  </tbody>\n",
       "</table>\n",
       "</div>"
      ],
      "text/plain": [
       "       subreddit                                               body  neg  neu  \\\n",
       "132          0.0  &gt; I'm not level 10 yet but you only get two...  1.0  0.0   \n",
       "19449        0.0  wanting to succeed rolls automatically sounds ...  1.0  0.0   \n",
       "16907        0.0  ...it's been that way with physical CDs for ov...  1.0  0.0   \n",
       "8383         0.0  If it's combat heavy max con second, take thou...  1.0  0.0   \n",
       "13130        0.0  That is not a CR 18 encounter. It seems that t...  1.0  0.0   \n",
       "\n",
       "       pos  compound  \n",
       "132    0.0   -0.2960  \n",
       "19449  0.0   -0.2732  \n",
       "16907  0.0   -0.2960  \n",
       "8383   0.0   -0.2960  \n",
       "13130  0.0   -0.4019  "
      ]
     },
     "execution_count": 30,
     "metadata": {},
     "output_type": "execute_result"
    }
   ],
   "source": [
    "polarity_df[polarity_df['subreddit'] == 0].sort_values(by = 'neg', ascending = False).head(5)"
   ]
  },
  {
   "cell_type": "code",
   "execution_count": 31,
   "id": "69b5df69-f312-48e4-ae78-76826e419a98",
   "metadata": {},
   "outputs": [
    {
     "data": {
      "text/html": [
       "<div>\n",
       "<style scoped>\n",
       "    .dataframe tbody tr th:only-of-type {\n",
       "        vertical-align: middle;\n",
       "    }\n",
       "\n",
       "    .dataframe tbody tr th {\n",
       "        vertical-align: top;\n",
       "    }\n",
       "\n",
       "    .dataframe thead th {\n",
       "        text-align: right;\n",
       "    }\n",
       "</style>\n",
       "<table border=\"1\" class=\"dataframe\">\n",
       "  <thead>\n",
       "    <tr style=\"text-align: right;\">\n",
       "      <th></th>\n",
       "      <th>subreddit</th>\n",
       "      <th>body</th>\n",
       "      <th>neg</th>\n",
       "      <th>neu</th>\n",
       "      <th>pos</th>\n",
       "      <th>compound</th>\n",
       "    </tr>\n",
       "  </thead>\n",
       "  <tbody>\n",
       "    <tr>\n",
       "      <th>15547</th>\n",
       "      <td>0.0</td>\n",
       "      <td>I think their should be a kind of Blood Mage c...</td>\n",
       "      <td>0.0</td>\n",
       "      <td>0.0</td>\n",
       "      <td>1.0</td>\n",
       "      <td>0.4019</td>\n",
       "    </tr>\n",
       "    <tr>\n",
       "      <th>10535</th>\n",
       "      <td>0.0</td>\n",
       "      <td>At the very least, you want the core idea, som...</td>\n",
       "      <td>0.0</td>\n",
       "      <td>0.0</td>\n",
       "      <td>1.0</td>\n",
       "      <td>0.4019</td>\n",
       "    </tr>\n",
       "    <tr>\n",
       "      <th>11051</th>\n",
       "      <td>0.0</td>\n",
       "      <td>Generally the absolute top choice for a level ...</td>\n",
       "      <td>0.0</td>\n",
       "      <td>0.0</td>\n",
       "      <td>1.0</td>\n",
       "      <td>0.4404</td>\n",
       "    </tr>\n",
       "    <tr>\n",
       "      <th>8180</th>\n",
       "      <td>0.0</td>\n",
       "      <td>Project manager at a translation company here,...</td>\n",
       "      <td>0.0</td>\n",
       "      <td>0.0</td>\n",
       "      <td>1.0</td>\n",
       "      <td>0.4215</td>\n",
       "    </tr>\n",
       "    <tr>\n",
       "      <th>16861</th>\n",
       "      <td>0.0</td>\n",
       "      <td>This right here. I hate Amazon as much as the ...</td>\n",
       "      <td>0.0</td>\n",
       "      <td>0.0</td>\n",
       "      <td>1.0</td>\n",
       "      <td>0.6476</td>\n",
       "    </tr>\n",
       "  </tbody>\n",
       "</table>\n",
       "</div>"
      ],
      "text/plain": [
       "       subreddit                                               body  neg  neu  \\\n",
       "15547        0.0  I think their should be a kind of Blood Mage c...  0.0  0.0   \n",
       "10535        0.0  At the very least, you want the core idea, som...  0.0  0.0   \n",
       "11051        0.0  Generally the absolute top choice for a level ...  0.0  0.0   \n",
       "8180         0.0  Project manager at a translation company here,...  0.0  0.0   \n",
       "16861        0.0  This right here. I hate Amazon as much as the ...  0.0  0.0   \n",
       "\n",
       "       pos  compound  \n",
       "15547  1.0    0.4019  \n",
       "10535  1.0    0.4019  \n",
       "11051  1.0    0.4404  \n",
       "8180   1.0    0.4215  \n",
       "16861  1.0    0.6476  "
      ]
     },
     "execution_count": 31,
     "metadata": {},
     "output_type": "execute_result"
    }
   ],
   "source": [
    "polarity_df[polarity_df['subreddit'] == 0].sort_values(by = 'pos', ascending = False).head(5)"
   ]
  },
  {
   "cell_type": "markdown",
   "id": "9343bfc2-25d2-4cb3-a474-b5d1935d506e",
   "metadata": {},
   "source": [
    "Sentiment for 'dmacademy':"
   ]
  },
  {
   "cell_type": "code",
   "execution_count": 32,
   "id": "04465d31-d177-464d-8222-cdc4acee32ee",
   "metadata": {},
   "outputs": [
    {
     "data": {
      "text/html": [
       "<div>\n",
       "<style scoped>\n",
       "    .dataframe tbody tr th:only-of-type {\n",
       "        vertical-align: middle;\n",
       "    }\n",
       "\n",
       "    .dataframe tbody tr th {\n",
       "        vertical-align: top;\n",
       "    }\n",
       "\n",
       "    .dataframe thead th {\n",
       "        text-align: right;\n",
       "    }\n",
       "</style>\n",
       "<table border=\"1\" class=\"dataframe\">\n",
       "  <thead>\n",
       "    <tr style=\"text-align: right;\">\n",
       "      <th></th>\n",
       "      <th>subreddit</th>\n",
       "      <th>body</th>\n",
       "      <th>neg</th>\n",
       "      <th>neu</th>\n",
       "      <th>pos</th>\n",
       "      <th>compound</th>\n",
       "    </tr>\n",
       "  </thead>\n",
       "  <tbody>\n",
       "    <tr>\n",
       "      <th>33925</th>\n",
       "      <td>1.0</td>\n",
       "      <td>Your goblin is going to be slightly less of a ...</td>\n",
       "      <td>0.045</td>\n",
       "      <td>0.711</td>\n",
       "      <td>0.244</td>\n",
       "      <td>0.9996</td>\n",
       "    </tr>\n",
       "    <tr>\n",
       "      <th>24573</th>\n",
       "      <td>1.0</td>\n",
       "      <td>How its flavoured doesn't really matter whethe...</td>\n",
       "      <td>0.079</td>\n",
       "      <td>0.736</td>\n",
       "      <td>0.185</td>\n",
       "      <td>0.9994</td>\n",
       "    </tr>\n",
       "    <tr>\n",
       "      <th>34981</th>\n",
       "      <td>1.0</td>\n",
       "      <td>IDK, but kudos on the DM points. I've always w...</td>\n",
       "      <td>0.069</td>\n",
       "      <td>0.734</td>\n",
       "      <td>0.196</td>\n",
       "      <td>0.9993</td>\n",
       "    </tr>\n",
       "    <tr>\n",
       "      <th>30911</th>\n",
       "      <td>1.0</td>\n",
       "      <td>For people with ADHD, sometimes doing another ...</td>\n",
       "      <td>0.059</td>\n",
       "      <td>0.751</td>\n",
       "      <td>0.190</td>\n",
       "      <td>0.9993</td>\n",
       "    </tr>\n",
       "    <tr>\n",
       "      <th>27192</th>\n",
       "      <td>1.0</td>\n",
       "      <td>- with players not following up on leads, don'...</td>\n",
       "      <td>0.070</td>\n",
       "      <td>0.731</td>\n",
       "      <td>0.199</td>\n",
       "      <td>0.9991</td>\n",
       "    </tr>\n",
       "  </tbody>\n",
       "</table>\n",
       "</div>"
      ],
      "text/plain": [
       "       subreddit                                               body    neg  \\\n",
       "33925        1.0  Your goblin is going to be slightly less of a ...  0.045   \n",
       "24573        1.0  How its flavoured doesn't really matter whethe...  0.079   \n",
       "34981        1.0  IDK, but kudos on the DM points. I've always w...  0.069   \n",
       "30911        1.0  For people with ADHD, sometimes doing another ...  0.059   \n",
       "27192        1.0  - with players not following up on leads, don'...  0.070   \n",
       "\n",
       "         neu    pos  compound  \n",
       "33925  0.711  0.244    0.9996  \n",
       "24573  0.736  0.185    0.9994  \n",
       "34981  0.734  0.196    0.9993  \n",
       "30911  0.751  0.190    0.9993  \n",
       "27192  0.731  0.199    0.9991  "
      ]
     },
     "execution_count": 32,
     "metadata": {},
     "output_type": "execute_result"
    }
   ],
   "source": [
    "#sentiment scores for the 'dmacademy' subreddit:\n",
    "polarity_df[polarity_df['subreddit'] == 1].sort_values(by = 'compound', ascending = False).head(5)"
   ]
  },
  {
   "cell_type": "code",
   "execution_count": 33,
   "id": "28bc6854-2b49-463d-a9cf-760e59351f92",
   "metadata": {},
   "outputs": [
    {
     "data": {
      "text/html": [
       "<div>\n",
       "<style scoped>\n",
       "    .dataframe tbody tr th:only-of-type {\n",
       "        vertical-align: middle;\n",
       "    }\n",
       "\n",
       "    .dataframe tbody tr th {\n",
       "        vertical-align: top;\n",
       "    }\n",
       "\n",
       "    .dataframe thead th {\n",
       "        text-align: right;\n",
       "    }\n",
       "</style>\n",
       "<table border=\"1\" class=\"dataframe\">\n",
       "  <thead>\n",
       "    <tr style=\"text-align: right;\">\n",
       "      <th></th>\n",
       "      <th>subreddit</th>\n",
       "      <th>body</th>\n",
       "      <th>neg</th>\n",
       "      <th>neu</th>\n",
       "      <th>pos</th>\n",
       "      <th>compound</th>\n",
       "    </tr>\n",
       "  </thead>\n",
       "  <tbody>\n",
       "    <tr>\n",
       "      <th>24237</th>\n",
       "      <td>1.0</td>\n",
       "      <td>Your welcome, if they insist on damage you can...</td>\n",
       "      <td>1.0</td>\n",
       "      <td>0.0</td>\n",
       "      <td>0.0</td>\n",
       "      <td>-0.6360</td>\n",
       "    </tr>\n",
       "    <tr>\n",
       "      <th>24061</th>\n",
       "      <td>1.0</td>\n",
       "      <td>The spell version of \"Flaming Raging Poisoning...</td>\n",
       "      <td>1.0</td>\n",
       "      <td>0.0</td>\n",
       "      <td>0.0</td>\n",
       "      <td>-0.1027</td>\n",
       "    </tr>\n",
       "    <tr>\n",
       "      <th>29649</th>\n",
       "      <td>1.0</td>\n",
       "      <td>&amp;gt;I think those are the same question though...</td>\n",
       "      <td>1.0</td>\n",
       "      <td>0.0</td>\n",
       "      <td>0.0</td>\n",
       "      <td>-0.6808</td>\n",
       "    </tr>\n",
       "    <tr>\n",
       "      <th>37497</th>\n",
       "      <td>1.0</td>\n",
       "      <td>I saw in another comment that he's actually go...</td>\n",
       "      <td>1.0</td>\n",
       "      <td>0.0</td>\n",
       "      <td>0.0</td>\n",
       "      <td>-0.2960</td>\n",
       "    </tr>\n",
       "    <tr>\n",
       "      <th>36163</th>\n",
       "      <td>1.0</td>\n",
       "      <td>I like this enough that I may steal it.  I thi...</td>\n",
       "      <td>1.0</td>\n",
       "      <td>0.0</td>\n",
       "      <td>0.0</td>\n",
       "      <td>-0.2960</td>\n",
       "    </tr>\n",
       "  </tbody>\n",
       "</table>\n",
       "</div>"
      ],
      "text/plain": [
       "       subreddit                                               body  neg  neu  \\\n",
       "24237        1.0  Your welcome, if they insist on damage you can...  1.0  0.0   \n",
       "24061        1.0  The spell version of \"Flaming Raging Poisoning...  1.0  0.0   \n",
       "29649        1.0  &gt;I think those are the same question though...  1.0  0.0   \n",
       "37497        1.0  I saw in another comment that he's actually go...  1.0  0.0   \n",
       "36163        1.0  I like this enough that I may steal it.  I thi...  1.0  0.0   \n",
       "\n",
       "       pos  compound  \n",
       "24237  0.0   -0.6360  \n",
       "24061  0.0   -0.1027  \n",
       "29649  0.0   -0.6808  \n",
       "37497  0.0   -0.2960  \n",
       "36163  0.0   -0.2960  "
      ]
     },
     "execution_count": 33,
     "metadata": {},
     "output_type": "execute_result"
    }
   ],
   "source": [
    "polarity_df[polarity_df['subreddit'] == 1].sort_values(by = 'neg', ascending = False).head(5)"
   ]
  },
  {
   "cell_type": "code",
   "execution_count": 34,
   "id": "4b58024f-8971-4559-8c5e-55766bc6cd0e",
   "metadata": {},
   "outputs": [
    {
     "data": {
      "text/html": [
       "<div>\n",
       "<style scoped>\n",
       "    .dataframe tbody tr th:only-of-type {\n",
       "        vertical-align: middle;\n",
       "    }\n",
       "\n",
       "    .dataframe tbody tr th {\n",
       "        vertical-align: top;\n",
       "    }\n",
       "\n",
       "    .dataframe thead th {\n",
       "        text-align: right;\n",
       "    }\n",
       "</style>\n",
       "<table border=\"1\" class=\"dataframe\">\n",
       "  <thead>\n",
       "    <tr style=\"text-align: right;\">\n",
       "      <th></th>\n",
       "      <th>subreddit</th>\n",
       "      <th>body</th>\n",
       "      <th>neg</th>\n",
       "      <th>neu</th>\n",
       "      <th>pos</th>\n",
       "      <th>compound</th>\n",
       "    </tr>\n",
       "  </thead>\n",
       "  <tbody>\n",
       "    <tr>\n",
       "      <th>35549</th>\n",
       "      <td>1.0</td>\n",
       "      <td>Alright so [here](https://dnd.wizards.com/arti...</td>\n",
       "      <td>0.0</td>\n",
       "      <td>0.0</td>\n",
       "      <td>1.0</td>\n",
       "      <td>0.4404</td>\n",
       "    </tr>\n",
       "    <tr>\n",
       "      <th>27496</th>\n",
       "      <td>1.0</td>\n",
       "      <td>If you’re virtual, just DM them cues they can ...</td>\n",
       "      <td>0.0</td>\n",
       "      <td>0.0</td>\n",
       "      <td>1.0</td>\n",
       "      <td>0.2732</td>\n",
       "    </tr>\n",
       "    <tr>\n",
       "      <th>26385</th>\n",
       "      <td>1.0</td>\n",
       "      <td>I would stamp a plot device to the noobie's fo...</td>\n",
       "      <td>0.0</td>\n",
       "      <td>0.0</td>\n",
       "      <td>1.0</td>\n",
       "      <td>0.4019</td>\n",
       "    </tr>\n",
       "    <tr>\n",
       "      <th>27410</th>\n",
       "      <td>1.0</td>\n",
       "      <td>If you're up for something incredibly silly yo...</td>\n",
       "      <td>0.0</td>\n",
       "      <td>0.0</td>\n",
       "      <td>1.0</td>\n",
       "      <td>0.7845</td>\n",
       "    </tr>\n",
       "    <tr>\n",
       "      <th>33720</th>\n",
       "      <td>1.0</td>\n",
       "      <td>Also, drow live for centuries. It doesn't take...</td>\n",
       "      <td>0.0</td>\n",
       "      <td>0.0</td>\n",
       "      <td>1.0</td>\n",
       "      <td>0.4767</td>\n",
       "    </tr>\n",
       "  </tbody>\n",
       "</table>\n",
       "</div>"
      ],
      "text/plain": [
       "       subreddit                                               body  neg  neu  \\\n",
       "35549        1.0  Alright so [here](https://dnd.wizards.com/arti...  0.0  0.0   \n",
       "27496        1.0  If you’re virtual, just DM them cues they can ...  0.0  0.0   \n",
       "26385        1.0  I would stamp a plot device to the noobie's fo...  0.0  0.0   \n",
       "27410        1.0  If you're up for something incredibly silly yo...  0.0  0.0   \n",
       "33720        1.0  Also, drow live for centuries. It doesn't take...  0.0  0.0   \n",
       "\n",
       "       pos  compound  \n",
       "35549  1.0    0.4404  \n",
       "27496  1.0    0.2732  \n",
       "26385  1.0    0.4019  \n",
       "27410  1.0    0.7845  \n",
       "33720  1.0    0.4767  "
      ]
     },
     "execution_count": 34,
     "metadata": {},
     "output_type": "execute_result"
    }
   ],
   "source": [
    "polarity_df[polarity_df['subreddit'] == 1].sort_values(by = 'pos', ascending = False).head(5)"
   ]
  },
  {
   "cell_type": "code",
   "execution_count": 35,
   "id": "0e43b309-7d03-45ed-9098-9c7079901eea",
   "metadata": {},
   "outputs": [
    {
     "data": {
      "image/png": "[encoded data removed]",
      "text/plain": [
       "<Figure size 432x288 with 1 Axes>"
      ]
     },
     "metadata": {},
     "output_type": "display_data"
    }
   ],
   "source": [
    "#dndnext sentiment histogram\n",
    "polarity_df[polarity_df['subreddit'] == 0].hist(column = 'compound', )\n",
    "plt.title('dndnext Compound Sentiment score');"
   ]
  },
  {
   "cell_type": "code",
   "execution_count": 36,
   "id": "bb311040-b0e6-4d3e-b1e6-5ea2dc20cf3a",
   "metadata": {},
   "outputs": [],
   "source": [
    "#https://www.python-graph-gallery.com/25-histogram-with-several-variables-seaborn\n",
    "#fig, axs = plt.subplots(3, 1, figsize=(7, 10))\n",
    "\n",
    "#sns.histplot(data=polarity_df[polarity_df['subreddit'] == 0], x=\"neu\", color=\"skyblue\", label='Neutral', kde=True, ax=axs[0])\n",
    "#sns.histplot(data=polarity_df[polarity_df['subreddit'] == 0], x=\"pos\", color=\"gold\", label='Positive', kde=True, ax=axs[1])\n",
    "#sns.histplot(data=polarity_df[polarity_df['subreddit'] == 0], x=\"neg\", color=\"red\", label='Negative', kde=True, ax=axs[2])\n",
    "\n",
    "#plt.legend() \n",
    "#plt.show()"
   ]
  },
  {
   "cell_type": "code",
   "execution_count": 37,
   "id": "a5b117e2-1fbe-4d8d-95ed-96f32f13a208",
   "metadata": {},
   "outputs": [
    {
     "data": {
      "image/png": "[encoded data removed]",
      "text/plain": [
       "<Figure size 432x288 with 1 Axes>"
      ]
     },
     "metadata": {},
     "output_type": "display_data"
    }
   ],
   "source": [
    "polarity_df[polarity_df['subreddit'] == 1].hist(column = 'compound')\n",
    "plt.title('dmacademy Compound Sentiment score');"
   ]
  },
  {
   "cell_type": "code",
   "execution_count": 38,
   "id": "0042c11e-c576-4250-9dcd-4c1f5d8925b1",
   "metadata": {},
   "outputs": [],
   "source": [
    "#https://www.python-graph-gallery.com/25-histogram-with-several-variables-seaborn\n",
    "#fig, axs = plt.subplots(3, 1, figsize=(7, 10))\n",
    "\n",
    "#sns.histplot(data=polarity_df[polarity_df['subreddit'] == 1], x=\"neu\", color=\"skyblue\", label='Neutral', kde=True, ax=axs[0])\n",
    "#sns.histplot(data=polarity_df[polarity_df['subreddit'] == 1], x=\"pos\", color=\"gold\", label='Positive', kde=True, ax=axs[1])\n",
    "#sns.histplot(data=polarity_df[polarity_df['subreddit'] == 1], x=\"neg\", color=\"red\", label='Negative', kde=True, ax=axs[2])\n",
    "\n",
    "#plt.legend() \n",
    "#plt.show()"
   ]
  },
  {
   "cell_type": "code",
   "execution_count": 39,
   "id": "e5a4e3f2-83c5-44c0-9b8f-f19a24161ee4",
   "metadata": {},
   "outputs": [
    {
     "data": {
      "image/png": "[encoded data removed]",
      "text/plain": [
       "<Figure size 864x864 with 6 Axes>"
      ]
     },
     "metadata": {},
     "output_type": "display_data"
    }
   ],
   "source": [
    "#https://www.python-graph-gallery.com/25-histogram-with-several-variables-seaborn\n",
    "fig, axs = plt.subplots(3, 2, sharey=True, figsize=(12, 12))\n",
    "fig.suptitle('Sentiment Analysis Comparison')\n",
    "\n",
    "sns.histplot(data=polarity_df[polarity_df['subreddit'] == 0], x=\"neu\", color=\"skyblue\", label='Neutral', kde=True, ax=axs[0, 0])\n",
    "sns.histplot(data=polarity_df[polarity_df['subreddit'] == 0], x=\"pos\", color=\"gold\", label='Positive', kde=True, ax=axs[1, 0])\n",
    "sns.histplot(data=polarity_df[polarity_df['subreddit'] == 0], x=\"neg\", color=\"red\", label='Negative', kde=True, ax=axs[2, 0])\n",
    "\n",
    "sns.histplot(data=polarity_df[polarity_df['subreddit'] == 1], x=\"neu\", color=\"skyblue\", label='Neutral', kde=True, ax=axs[0, 1])\n",
    "sns.histplot(data=polarity_df[polarity_df['subreddit'] == 1], x=\"pos\", color=\"gold\", label='Positive', kde=True, ax=axs[1, 1])\n",
    "sns.histplot(data=polarity_df[polarity_df['subreddit'] == 1], x=\"neg\", color=\"red\", label='Negative', kde=True, ax=axs[2, 1])\n",
    "\n",
    "plt.show()\n",
    "\n",
    "#bp.set_titles(\"{col_name}\")\n",
    "#bp.set_ylabels(\"Time (s)\")\n",
    "#bp.set_xlabels(\"Number\")\n",
    "#sns.plt.show()"
   ]
  },
  {
   "cell_type": "markdown",
   "id": "069fec1e-15ff-4a8b-92f9-027d1fc670a4",
   "metadata": {},
   "source": [
    "**'body' Text Cleaning**"
   ]
  },
  {
   "cell_type": "code",
   "execution_count": 40,
   "id": "42ffa269-10b5-4ea5-a67c-76f525f050aa",
   "metadata": {},
   "outputs": [
    {
     "data": {
      "text/plain": [
       "'!\"#$%&\\'()*+,-./:;<=>?@[\\\\]^_`{|}~'"
      ]
     },
     "execution_count": 40,
     "metadata": {},
     "output_type": "execute_result"
    }
   ],
   "source": [
    "#https://stackoverflow.com/questions/50444346/fast-punctuation-removal-with-pandas\n",
    "#https://stackoverflow.com/questions/4328500/how-can-i-strip-all-punctuation-from-a-string-in-javascript-using-regex\n",
    "#https://stackoverflow.com/questions/19790188/expanding-english-language-contractions-in-python\n",
    "#https://regex101.com/\n",
    "#https://stackoverflow.com/questions/336210/regular-expression-for-alphanumeric-and-underscores\n",
    "\n",
    "import re\n",
    "import string\n",
    "string.punctuation"
   ]
  },
  {
   "cell_type": "code",
   "execution_count": 41,
   "id": "aa8e27a4-84e6-4462-86e8-42a28b2cf59c",
   "metadata": {},
   "outputs": [
    {
     "data": {
      "text/html": [
       "<div>\n",
       "<style scoped>\n",
       "    .dataframe tbody tr th:only-of-type {\n",
       "        vertical-align: middle;\n",
       "    }\n",
       "\n",
       "    .dataframe tbody tr th {\n",
       "        vertical-align: top;\n",
       "    }\n",
       "\n",
       "    .dataframe thead th {\n",
       "        text-align: right;\n",
       "    }\n",
       "</style>\n",
       "<table border=\"1\" class=\"dataframe\">\n",
       "  <thead>\n",
       "    <tr style=\"text-align: right;\">\n",
       "      <th></th>\n",
       "      <th>body</th>\n",
       "    </tr>\n",
       "  </thead>\n",
       "  <tbody>\n",
       "    <tr>\n",
       "      <th>0</th>\n",
       "      <td>Well first of all, if that's the only way you ...</td>\n",
       "    </tr>\n",
       "    <tr>\n",
       "      <th>1</th>\n",
       "      <td>The feat is where almost the entire power budg...</td>\n",
       "    </tr>\n",
       "    <tr>\n",
       "      <th>2</th>\n",
       "      <td>Oh I don't think it's a problem. I thought the...</td>\n",
       "    </tr>\n",
       "    <tr>\n",
       "      <th>3</th>\n",
       "      <td>Eh, not necessarily. DM screens can hide books...</td>\n",
       "    </tr>\n",
       "    <tr>\n",
       "      <th>4</th>\n",
       "      <td>what other features should i remove in order t...</td>\n",
       "    </tr>\n",
       "    <tr>\n",
       "      <th>...</th>\n",
       "      <td>...</td>\n",
       "    </tr>\n",
       "    <tr>\n",
       "      <th>39994</th>\n",
       "      <td>\"Fuck off mate, who do you think you are invit...</td>\n",
       "    </tr>\n",
       "    <tr>\n",
       "      <th>39995</th>\n",
       "      <td>Well then two possibilities : \\n\\neither every...</td>\n",
       "    </tr>\n",
       "    <tr>\n",
       "      <th>39996</th>\n",
       "      <td>RAW you need to hold the focus. And a focus do...</td>\n",
       "    </tr>\n",
       "    <tr>\n",
       "      <th>39997</th>\n",
       "      <td>I got into an argument with my players recentl...</td>\n",
       "    </tr>\n",
       "    <tr>\n",
       "      <th>39998</th>\n",
       "      <td>&amp;gt;I don't want to just \"and out of nowhere ,...</td>\n",
       "    </tr>\n",
       "  </tbody>\n",
       "</table>\n",
       "<p>39372 rows × 1 columns</p>\n",
       "</div>"
      ],
      "text/plain": [
       "                                                    body\n",
       "0      Well first of all, if that's the only way you ...\n",
       "1      The feat is where almost the entire power budg...\n",
       "2      Oh I don't think it's a problem. I thought the...\n",
       "3      Eh, not necessarily. DM screens can hide books...\n",
       "4      what other features should i remove in order t...\n",
       "...                                                  ...\n",
       "39994  \"Fuck off mate, who do you think you are invit...\n",
       "39995  Well then two possibilities : \\n\\neither every...\n",
       "39996  RAW you need to hold the focus. And a focus do...\n",
       "39997  I got into an argument with my players recentl...\n",
       "39998  &gt;I don't want to just \"and out of nowhere ,...\n",
       "\n",
       "[39372 rows x 1 columns]"
      ]
     },
     "execution_count": 41,
     "metadata": {},
     "output_type": "execute_result"
    }
   ],
   "source": [
    "df[['body']]"
   ]
  },
  {
   "cell_type": "code",
   "execution_count": 42,
   "id": "30595731-fe30-436e-836f-821654d6532f",
   "metadata": {},
   "outputs": [],
   "source": [
    "#function to clean up the text in 'body':\n",
    "def mrclean(text):\n",
    "    \n",
    "    #lowercase:\n",
    "    text = text.lower()\n",
    "    \n",
    "    #fixing contractions (MUST DO THIS BEFORE SPECIAL CHAR REMOVAL)\n",
    "    # specific\n",
    "    text = re.sub(r\"won\\'t\", \"will not\", text)\n",
    "    text = re.sub(r\"can\\'t\", \"can not\", text)\n",
    "\n",
    "    # general\n",
    "    text = re.sub(r\"n\\'t\", \" not\", text)\n",
    "    text = re.sub(r\"\\'re\", \" are\", text)\n",
    "    text = re.sub(r\"\\'s\", \" is\", text)\n",
    "    text = re.sub(r\"\\'d\", \" would\", text)\n",
    "    text = re.sub(r\"\\'ll\", \" will\", text)\n",
    "    text = re.sub(r\"\\'t\", \" not\", text)\n",
    "    text = re.sub(r\"\\'ve\", \" have\", text)\n",
    "    text = re.sub(r\"\\'m\", \" am\", text)\n",
    "    \n",
    "    #removing special characters, need to keep numbers for D&D stuff:\n",
    "    text = re.sub('[^a-zA-Z0-9_]', ' ', text)\n",
    "    \n",
    "    #removing 1-, 2-letter words:\n",
    "    text = re.sub(r'\\b\\w{1,2}\\b', '', text)\n",
    "    \n",
    "    #removing odd instances of '/n'\n",
    "    text = re.sub(\"\\n\", '', text)\n",
    "    \n",
    "    #trying to take care of spacing\n",
    "    text = re.sub(r'/\\s+/g', \" \", text)\n",
    "    \n",
    "    return text"
   ]
  },
  {
   "cell_type": "markdown",
   "id": "f0cb9c65-8a6c-4fc9-9f44-14c2cb964e7a",
   "metadata": {},
   "source": [
    "- I had trouble trying to strip special characters with string.punctuation and specifying punctuation like 'r/[.,\\/#!\\$%\\^&\\*;:{}=\\-_`~()]/g',\n",
    "I kept getting stuck with ellipses and instances of that', so I just opted to remove everything that wasn't a letter."
   ]
  },
  {
   "cell_type": "code",
   "execution_count": 43,
   "id": "886b5543-b682-438a-9df5-3fec0ddb8acc",
   "metadata": {},
   "outputs": [],
   "source": [
    "#putting mrclean to work:\n",
    "df['body'] = df['body'].apply(mrclean)"
   ]
  },
  {
   "cell_type": "code",
   "execution_count": 44,
   "id": "aaaf3e63-8475-49a3-a5de-faf780e55675",
   "metadata": {},
   "outputs": [
    {
     "data": {
      "text/html": [
       "<div>\n",
       "<style scoped>\n",
       "    .dataframe tbody tr th:only-of-type {\n",
       "        vertical-align: middle;\n",
       "    }\n",
       "\n",
       "    .dataframe tbody tr th {\n",
       "        vertical-align: top;\n",
       "    }\n",
       "\n",
       "    .dataframe thead th {\n",
       "        text-align: right;\n",
       "    }\n",
       "</style>\n",
       "<table border=\"1\" class=\"dataframe\">\n",
       "  <thead>\n",
       "    <tr style=\"text-align: right;\">\n",
       "      <th></th>\n",
       "      <th>body</th>\n",
       "    </tr>\n",
       "  </thead>\n",
       "  <tbody>\n",
       "    <tr>\n",
       "      <th>0</th>\n",
       "      <td>well first  all   that  the only way you find ...</td>\n",
       "    </tr>\n",
       "    <tr>\n",
       "      <th>1</th>\n",
       "      <td>the feat  where almost the entire power budget...</td>\n",
       "    </tr>\n",
       "    <tr>\n",
       "      <th>2</th>\n",
       "      <td>not think    problem   thought the guy was ...</td>\n",
       "    </tr>\n",
       "    <tr>\n",
       "      <th>3</th>\n",
       "      <td>not necessarily   screens can hide books and...</td>\n",
       "    </tr>\n",
       "    <tr>\n",
       "      <th>4</th>\n",
       "      <td>what other features should  remove  order  bal...</td>\n",
       "    </tr>\n",
       "    <tr>\n",
       "      <th>...</th>\n",
       "      <td>...</td>\n",
       "    </tr>\n",
       "    <tr>\n",
       "      <th>39994</th>\n",
       "      <td>fuck off mate  who  you think you are invitin...</td>\n",
       "    </tr>\n",
       "    <tr>\n",
       "      <th>39995</th>\n",
       "      <td>well then two possibilities     either everyon...</td>\n",
       "    </tr>\n",
       "    <tr>\n",
       "      <th>39996</th>\n",
       "      <td>raw you need  hold the focus  and  focus does ...</td>\n",
       "    </tr>\n",
       "    <tr>\n",
       "      <th>39997</th>\n",
       "      <td>got into  argument with  players recently ove...</td>\n",
       "    </tr>\n",
       "    <tr>\n",
       "      <th>39998</th>\n",
       "      <td>not want  just  and out  nowhere  your cha...</td>\n",
       "    </tr>\n",
       "  </tbody>\n",
       "</table>\n",
       "<p>39372 rows × 1 columns</p>\n",
       "</div>"
      ],
      "text/plain": [
       "                                                    body\n",
       "0      well first  all   that  the only way you find ...\n",
       "1      the feat  where almost the entire power budget...\n",
       "2         not think    problem   thought the guy was ...\n",
       "3        not necessarily   screens can hide books and...\n",
       "4      what other features should  remove  order  bal...\n",
       "...                                                  ...\n",
       "39994   fuck off mate  who  you think you are invitin...\n",
       "39995  well then two possibilities     either everyon...\n",
       "39996  raw you need  hold the focus  and  focus does ...\n",
       "39997   got into  argument with  players recently ove...\n",
       "39998      not want  just  and out  nowhere  your cha...\n",
       "\n",
       "[39372 rows x 1 columns]"
      ]
     },
     "execution_count": 44,
     "metadata": {},
     "output_type": "execute_result"
    }
   ],
   "source": [
    "#looking at cleaned dataframe:\n",
    "df[['body']]"
   ]
  },
  {
   "cell_type": "markdown",
   "id": "c217ebd4-ed7a-40ae-8e29-870e45236686",
   "metadata": {},
   "source": [
    "**Imports for NLP Pre-Processing**"
   ]
  },
  {
   "cell_type": "code",
   "execution_count": 45,
   "id": "bf8dc192-937f-4da5-aac8-516fa4755e7e",
   "metadata": {},
   "outputs": [],
   "source": [
    "#imports for pre-processing:\n",
    "\n",
    "from nltk.stem import WordNetLemmatizer\n",
    "from nltk.corpus import stopwords\n",
    "\n",
    "from sklearn.model_selection import train_test_split, cross_val_score, GridSearchCV\n",
    "from sklearn.pipeline import Pipeline\n",
    "from sklearn.naive_bayes import MultinomialNB\n",
    "from sklearn.linear_model import LogisticRegression\n",
    "from sklearn.metrics import confusion_matrix, plot_confusion_matrix, classification_report\n",
    "from sklearn.feature_extraction.text import CountVectorizer, TfidfVectorizer, TfidfTransformer"
   ]
  },
  {
   "cell_type": "code",
   "execution_count": 46,
   "id": "b1d140df-64d6-462d-ab02-f9d4a1f5d175",
   "metadata": {},
   "outputs": [],
   "source": [
    "lemmatizer = WordNetLemmatizer()"
   ]
  },
  {
   "cell_type": "code",
   "execution_count": 47,
   "id": "86f6a40f-059d-4d7d-b1a9-1f889b8fb614",
   "metadata": {},
   "outputs": [
    {
     "data": {
      "text/plain": [
       "'well first  all   that  the only way you find enjoyment then that  okay  you can play all  your characters that way  that  how you have fun   but  few thoughts and suggestions that might help      fill out the traits  bonds  flaws  and ideals  your character sheets and refer back  them regularly    you are playing  character who shoots first and asks questions later  write that down   helps  have some writen words  keep you  character   perhaps  moot suggestion but try using  voice  accent  this will help mentally separate the character you are acting  from the real person you are    you mention not wanting  feel evil  few times  but evil  subjective'"
      ]
     },
     "execution_count": 47,
     "metadata": {},
     "output_type": "execute_result"
    }
   ],
   "source": [
    "#looking at a mrclean cleaned comment:\n",
    "df['body'][0]"
   ]
  },
  {
   "cell_type": "code",
   "execution_count": 48,
   "id": "352ea278-c5cd-48dc-b299-9bd3de0e0748",
   "metadata": {},
   "outputs": [
    {
     "data": {
      "text/plain": [
       "39372"
      ]
     },
     "execution_count": 48,
     "metadata": {},
     "output_type": "execute_result"
    }
   ],
   "source": [
    "#checking the length of comments after cleaning:\n",
    "len(df['body'])"
   ]
  },
  {
   "cell_type": "code",
   "execution_count": 49,
   "id": "5d707751-f9d2-4de9-b737-d26852f60a08",
   "metadata": {},
   "outputs": [],
   "source": [
    "#https://stackoverflow.com/questions/47557563/lemmatization-of-all-pandas-cells\n",
    "spc_tokenizer = nltk.tokenize.WhitespaceTokenizer()\n",
    "lemmatizer = nltk.stem.WordNetLemmatizer()\n",
    "\n",
    "def lemmatize_text(text):\n",
    "    return [lemmatizer.lemmatize(words) for words in spc_tokenizer.tokenize(text)]\n",
    "\n",
    "df['text_lemmatized'] = df.body.apply(lemmatize_text)"
   ]
  },
  {
   "cell_type": "code",
   "execution_count": 50,
   "id": "52cd077c-d6f8-40ba-8c7b-b579ec430f38",
   "metadata": {},
   "outputs": [
    {
     "data": {
      "text/html": [
       "<div>\n",
       "<style scoped>\n",
       "    .dataframe tbody tr th:only-of-type {\n",
       "        vertical-align: middle;\n",
       "    }\n",
       "\n",
       "    .dataframe tbody tr th {\n",
       "        vertical-align: top;\n",
       "    }\n",
       "\n",
       "    .dataframe thead th {\n",
       "        text-align: right;\n",
       "    }\n",
       "</style>\n",
       "<table border=\"1\" class=\"dataframe\">\n",
       "  <thead>\n",
       "    <tr style=\"text-align: right;\">\n",
       "      <th></th>\n",
       "      <th>subreddit</th>\n",
       "      <th>author</th>\n",
       "      <th>body</th>\n",
       "      <th>text_lemmatized</th>\n",
       "    </tr>\n",
       "  </thead>\n",
       "  <tbody>\n",
       "    <tr>\n",
       "      <th>0</th>\n",
       "      <td>0</td>\n",
       "      <td>DMPatrick</td>\n",
       "      <td>well first  all   that  the only way you find ...</td>\n",
       "      <td>[well, first, all, that, the, only, way, you, ...</td>\n",
       "    </tr>\n",
       "    <tr>\n",
       "      <th>1</th>\n",
       "      <td>0</td>\n",
       "      <td>whitetempest521</td>\n",
       "      <td>the feat  where almost the entire power budget...</td>\n",
       "      <td>[the, feat, where, almost, the, entire, power,...</td>\n",
       "    </tr>\n",
       "    <tr>\n",
       "      <th>2</th>\n",
       "      <td>0</td>\n",
       "      <td>Th1nker26</td>\n",
       "      <td>not think    problem   thought the guy was ...</td>\n",
       "      <td>[not, think, problem, thought, the, guy, wa, j...</td>\n",
       "    </tr>\n",
       "    <tr>\n",
       "      <th>3</th>\n",
       "      <td>0</td>\n",
       "      <td>Themoonisamyth</td>\n",
       "      <td>not necessarily   screens can hide books and...</td>\n",
       "      <td>[not, necessarily, screen, can, hide, book, an...</td>\n",
       "    </tr>\n",
       "    <tr>\n",
       "      <th>4</th>\n",
       "      <td>0</td>\n",
       "      <td>-Leomist-</td>\n",
       "      <td>what other features should  remove  order  bal...</td>\n",
       "      <td>[what, other, feature, should, remove, order, ...</td>\n",
       "    </tr>\n",
       "    <tr>\n",
       "      <th>...</th>\n",
       "      <td>...</td>\n",
       "      <td>...</td>\n",
       "      <td>...</td>\n",
       "      <td>...</td>\n",
       "    </tr>\n",
       "    <tr>\n",
       "      <th>39994</th>\n",
       "      <td>1</td>\n",
       "      <td>ZiggyB</td>\n",
       "      <td>fuck off mate  who  you think you are invitin...</td>\n",
       "      <td>[fuck, off, mate, who, you, think, you, are, i...</td>\n",
       "    </tr>\n",
       "    <tr>\n",
       "      <th>39995</th>\n",
       "      <td>1</td>\n",
       "      <td>NarcoZero</td>\n",
       "      <td>well then two possibilities     either everyon...</td>\n",
       "      <td>[well, then, two, possibility, either, everyon...</td>\n",
       "    </tr>\n",
       "    <tr>\n",
       "      <th>39996</th>\n",
       "      <td>1</td>\n",
       "      <td>Mandarni</td>\n",
       "      <td>raw you need  hold the focus  and  focus does ...</td>\n",
       "      <td>[raw, you, need, hold, the, focus, and, focus,...</td>\n",
       "    </tr>\n",
       "    <tr>\n",
       "      <th>39997</th>\n",
       "      <td>1</td>\n",
       "      <td>arcxjo</td>\n",
       "      <td>got into  argument with  players recently ove...</td>\n",
       "      <td>[got, into, argument, with, player, recently, ...</td>\n",
       "    </tr>\n",
       "    <tr>\n",
       "      <th>39998</th>\n",
       "      <td>1</td>\n",
       "      <td>Earthhorn90</td>\n",
       "      <td>not want  just  and out  nowhere  your cha...</td>\n",
       "      <td>[not, want, just, and, out, nowhere, your, cha...</td>\n",
       "    </tr>\n",
       "  </tbody>\n",
       "</table>\n",
       "<p>39350 rows × 4 columns</p>\n",
       "</div>"
      ],
      "text/plain": [
       "       subreddit           author  \\\n",
       "0              0        DMPatrick   \n",
       "1              0  whitetempest521   \n",
       "2              0        Th1nker26   \n",
       "3              0   Themoonisamyth   \n",
       "4              0        -Leomist-   \n",
       "...          ...              ...   \n",
       "39994          1           ZiggyB   \n",
       "39995          1        NarcoZero   \n",
       "39996          1         Mandarni   \n",
       "39997          1           arcxjo   \n",
       "39998          1      Earthhorn90   \n",
       "\n",
       "                                                    body  \\\n",
       "0      well first  all   that  the only way you find ...   \n",
       "1      the feat  where almost the entire power budget...   \n",
       "2         not think    problem   thought the guy was ...   \n",
       "3        not necessarily   screens can hide books and...   \n",
       "4      what other features should  remove  order  bal...   \n",
       "...                                                  ...   \n",
       "39994   fuck off mate  who  you think you are invitin...   \n",
       "39995  well then two possibilities     either everyon...   \n",
       "39996  raw you need  hold the focus  and  focus does ...   \n",
       "39997   got into  argument with  players recently ove...   \n",
       "39998      not want  just  and out  nowhere  your cha...   \n",
       "\n",
       "                                         text_lemmatized  \n",
       "0      [well, first, all, that, the, only, way, you, ...  \n",
       "1      [the, feat, where, almost, the, entire, power,...  \n",
       "2      [not, think, problem, thought, the, guy, wa, j...  \n",
       "3      [not, necessarily, screen, can, hide, book, an...  \n",
       "4      [what, other, feature, should, remove, order, ...  \n",
       "...                                                  ...  \n",
       "39994  [fuck, off, mate, who, you, think, you, are, i...  \n",
       "39995  [well, then, two, possibility, either, everyon...  \n",
       "39996  [raw, you, need, hold, the, focus, and, focus,...  \n",
       "39997  [got, into, argument, with, player, recently, ...  \n",
       "39998  [not, want, just, and, out, nowhere, your, cha...  \n",
       "\n",
       "[39350 rows x 4 columns]"
      ]
     },
     "execution_count": 50,
     "metadata": {},
     "output_type": "execute_result"
    }
   ],
   "source": [
    "#dropping rows where body = ''\n",
    "df = df[df['body'] != '']\n",
    "df"
   ]
  },
  {
   "cell_type": "code",
   "execution_count": 51,
   "id": "47f8bc10-771c-4b69-9d2a-7ed691c08a3d",
   "metadata": {},
   "outputs": [],
   "source": [
    "#exporting clean dataframe to .csv\n",
    "df.to_csv('./csv_files/comms_clean.csv', index=False)"
   ]
  },
  {
   "cell_type": "code",
   "execution_count": 52,
   "id": "6ba85578-10b1-4272-a9d9-14c88023d883",
   "metadata": {},
   "outputs": [],
   "source": [
    "#using bag of words to find and build on additional stop words:\n",
    "cvec = CountVectorizer(analyzer = 'word', stop_words = 'english', max_features = 50) \n",
    "\n",
    "# input for CountVectorizer is an array of strings\n",
    "dndnext = df[df['subreddit'] == 0]['body']\n",
    "\n",
    "# fit_transform the vectorizer\n",
    "dndnext_words = cvec.fit_transform(dndnext)\n",
    "\n",
    "# convert output to a Numpy array\n",
    "dndnext_words = dndnext_words.toarray()"
   ]
  },
  {
   "cell_type": "code",
   "execution_count": 53,
   "id": "e9c5aa02-f465-48d3-8f17-08353885b79e",
   "metadata": {},
   "outputs": [
    {
     "name": "stdout",
     "output_type": "stream",
     "text": [
      "['action', 'actually', 'amp', 'attack', 'better', 'campaign', 'cast', 'character', 'class', 'combat', 'damage', 'did', 'does', 'fighter', 'game', 'going', 'good', 'just', 'know', 'level', 'like', 'lot', 'magic', 'make', 'monk', 'need', 'paladin', 'party', 'people', 'play', 'player', 'players', 'playing', 'point', 'pretty', 'probably', 'really', 'roll', 'say', 'spell', 'spells', 'thing', 'things', 'think', 'time', 'use', 'want', 'way', 'weapon', 'wizard']\n"
     ]
    }
   ],
   "source": [
    "#most common words from 'dndnext':\n",
    "dndnext_words = cvec.get_feature_names()\n",
    "print(dndnext_words)"
   ]
  },
  {
   "cell_type": "code",
   "execution_count": 54,
   "id": "a9d316d3-8dfb-4291-b327-db6e6cd1e101",
   "metadata": {},
   "outputs": [],
   "source": [
    "#using bag of words to find and build on additional stop words:\n",
    "cvec = CountVectorizer(analyzer = 'word', stop_words = 'english', max_features = 50) \n",
    "\n",
    "# input for CountVectorizer is an array of strings\n",
    "dmacademy = df[df['subreddit'] == 1]['body']\n",
    "\n",
    "# fit_transform the vectorizer\n",
    "dmacademy_words = cvec.fit_transform(dmacademy)\n",
    "\n",
    "# convert output to a Numpy array\n",
    "dmacademy_words = dmacademy_words.toarray()"
   ]
  },
  {
   "cell_type": "code",
   "execution_count": 55,
   "id": "39dc5a83-b66f-4f46-884d-db3a54079324",
   "metadata": {},
   "outputs": [
    {
     "name": "stdout",
     "output_type": "stream",
     "text": [
      "['amp', 'campaign', 'character', 'characters', 'combat', 'damage', 'did', 'does', 'feel', 'fun', 'game', 'going', 'good', 'group', 'having', 'just', 'know', 'let', 'level', 'like', 'long', 'lot', 'magic', 'make', 'maybe', 'need', 'party', 'people', 'play', 'player', 'players', 'point', 'really', 'roll', 'rules', 'run', 'say', 'session', 'spell', 'story', 'thing', 'things', 'think', 'time', 'try', 'use', 'want', 'way', 'work', 'world']\n"
     ]
    }
   ],
   "source": [
    "#most common words from 'dmacademy':\n",
    "dmacademy_words = cvec.get_feature_names()\n",
    "print(dmacademy_words)"
   ]
  },
  {
   "cell_type": "code",
   "execution_count": 56,
   "id": "9c58a070-3def-43d4-9609-cf58aae2a94f",
   "metadata": {},
   "outputs": [],
   "source": [
    "#building a set that's a union of the two lists:\n",
    "#https://www.geeksforgeeks.org/python-intersection-two-lists/\n",
    "def union(list_1, list_2):\n",
    "    return set(list_1).intersection(list_2)"
   ]
  },
  {
   "cell_type": "code",
   "execution_count": 57,
   "id": "2aee755b-5cb6-4aca-bbb7-3b0df6ad88ea",
   "metadata": {},
   "outputs": [
    {
     "data": {
      "text/plain": [
       "{'amp',\n",
       " 'campaign',\n",
       " 'character',\n",
       " 'combat',\n",
       " 'damage',\n",
       " 'did',\n",
       " 'does',\n",
       " 'game',\n",
       " 'going',\n",
       " 'good',\n",
       " 'just',\n",
       " 'know',\n",
       " 'level',\n",
       " 'like',\n",
       " 'lot',\n",
       " 'magic',\n",
       " 'make',\n",
       " 'need',\n",
       " 'party',\n",
       " 'people',\n",
       " 'play',\n",
       " 'player',\n",
       " 'players',\n",
       " 'point',\n",
       " 'really',\n",
       " 'roll',\n",
       " 'say',\n",
       " 'spell',\n",
       " 'thing',\n",
       " 'things',\n",
       " 'think',\n",
       " 'time',\n",
       " 'use',\n",
       " 'want',\n",
       " 'way'}"
      ]
     },
     "execution_count": 57,
     "metadata": {},
     "output_type": "execute_result"
    }
   ],
   "source": [
    "#common words that appear in both subreddits:\n",
    "additional_stop_words = union(dndnext_words, dmacademy_words)\n",
    "additional_stop_words"
   ]
  },
  {
   "cell_type": "code",
   "execution_count": 58,
   "id": "10d3f476-a926-4cf4-86b9-51b26bb2e852",
   "metadata": {},
   "outputs": [
    {
     "data": {
      "text/plain": [
       "35"
      ]
     },
     "execution_count": 58,
     "metadata": {},
     "output_type": "execute_result"
    }
   ],
   "source": [
    "len(additional_stop_words)"
   ]
  },
  {
   "cell_type": "code",
   "execution_count": 59,
   "id": "329bc7c6-9a28-48b2-9bff-551d2b38ef19",
   "metadata": {},
   "outputs": [
    {
     "name": "stdout",
     "output_type": "stream",
     "text": [
      "['i', 'me', 'my', 'myself', 'we', 'our', 'ours', 'ourselves', 'you', \"you're\", \"you've\", \"you'll\", \"you'd\", 'your', 'yours', 'yourself', 'yourselves', 'he', 'him', 'his', 'himself', 'she', \"she's\", 'her', 'hers', 'herself', 'it', \"it's\", 'its', 'itself', 'they', 'them', 'their', 'theirs', 'themselves', 'what', 'which', 'who', 'whom', 'this', 'that', \"that'll\", 'these', 'those', 'am', 'is', 'are', 'was', 'were', 'be', 'been', 'being', 'have', 'has', 'had', 'having', 'do', 'does', 'did', 'doing', 'a', 'an', 'the', 'and', 'but', 'if', 'or', 'because', 'as', 'until', 'while', 'of', 'at', 'by', 'for', 'with', 'about', 'against', 'between', 'into', 'through', 'during', 'before', 'after', 'above', 'below', 'to', 'from', 'up', 'down', 'in', 'out', 'on', 'off', 'over', 'under', 'again', 'further', 'then', 'once', 'here', 'there', 'when', 'where', 'why', 'how', 'all', 'any', 'both', 'each', 'few', 'more', 'most', 'other', 'some', 'such', 'no', 'nor', 'not', 'only', 'own', 'same', 'so', 'than', 'too', 'very', 's', 't', 'can', 'will', 'just', 'don', \"don't\", 'should', \"should've\", 'now', 'd', 'll', 'm', 'o', 're', 've', 'y', 'ain', 'aren', \"aren't\", 'couldn', \"couldn't\", 'didn', \"didn't\", 'doesn', \"doesn't\", 'hadn', \"hadn't\", 'hasn', \"hasn't\", 'haven', \"haven't\", 'isn', \"isn't\", 'ma', 'mightn', \"mightn't\", 'mustn', \"mustn't\", 'needn', \"needn't\", 'shan', \"shan't\", 'shouldn', \"shouldn't\", 'wasn', \"wasn't\", 'weren', \"weren't\", 'won', \"won't\", 'wouldn', \"wouldn't\"]\n"
     ]
    }
   ],
   "source": [
    "#https://stackoverflow.com/questions/5511708/adding-words-to-nltk-stoplist\n",
    "#https://awhan.wordpress.com/2016/06/05/scikit-learn-nlp-list-english-stopwords/\n",
    "print(stopwords.words('english'))"
   ]
  },
  {
   "cell_type": "code",
   "execution_count": 60,
   "id": "d597e4fe-d798-47f3-a9e3-93efb927784e",
   "metadata": {},
   "outputs": [],
   "source": [
    "stopwords = nltk.corpus.stopwords.words('english')\n",
    "stopwords.append(additional_stop_words)"
   ]
  },
  {
   "cell_type": "code",
   "execution_count": 61,
   "id": "9adcf7a3-fac9-4116-a4e3-5bcb82498fb5",
   "metadata": {},
   "outputs": [
    {
     "name": "stdout",
     "output_type": "stream",
     "text": [
      "['i', 'me', 'my', 'myself', 'we', 'our', 'ours', 'ourselves', 'you', \"you're\", \"you've\", \"you'll\", \"you'd\", 'your', 'yours', 'yourself', 'yourselves', 'he', 'him', 'his', 'himself', 'she', \"she's\", 'her', 'hers', 'herself', 'it', \"it's\", 'its', 'itself', 'they', 'them', 'their', 'theirs', 'themselves', 'what', 'which', 'who', 'whom', 'this', 'that', \"that'll\", 'these', 'those', 'am', 'is', 'are', 'was', 'were', 'be', 'been', 'being', 'have', 'has', 'had', 'having', 'do', 'does', 'did', 'doing', 'a', 'an', 'the', 'and', 'but', 'if', 'or', 'because', 'as', 'until', 'while', 'of', 'at', 'by', 'for', 'with', 'about', 'against', 'between', 'into', 'through', 'during', 'before', 'after', 'above', 'below', 'to', 'from', 'up', 'down', 'in', 'out', 'on', 'off', 'over', 'under', 'again', 'further', 'then', 'once', 'here', 'there', 'when', 'where', 'why', 'how', 'all', 'any', 'both', 'each', 'few', 'more', 'most', 'other', 'some', 'such', 'no', 'nor', 'not', 'only', 'own', 'same', 'so', 'than', 'too', 'very', 's', 't', 'can', 'will', 'just', 'don', \"don't\", 'should', \"should've\", 'now', 'd', 'll', 'm', 'o', 're', 've', 'y', 'ain', 'aren', \"aren't\", 'couldn', \"couldn't\", 'didn', \"didn't\", 'doesn', \"doesn't\", 'hadn', \"hadn't\", 'hasn', \"hasn't\", 'haven', \"haven't\", 'isn', \"isn't\", 'ma', 'mightn', \"mightn't\", 'mustn', \"mustn't\", 'needn', \"needn't\", 'shan', \"shan't\", 'shouldn', \"shouldn't\", 'wasn', \"wasn't\", 'weren', \"weren't\", 'won', \"won't\", 'wouldn', \"wouldn't\", {'like', 'point', 'spell', 'know', 'just', 'time', 'good', 'lot', 'think', 'things', 'player', 'want', 'play', 'game', 'going', 'roll', 'party', 'character', 'combat', 'use', 'campaign', 'did', 'does', 'amp', 'make', 'really', 'damage', 'magic', 'say', 'players', 'way', 'level', 'people', 'need', 'thing'}]\n"
     ]
    }
   ],
   "source": [
    "print(stopwords)\n",
    "\n",
    "#worry about removing the {}?\n",
    "#put this in modeling notebook?"
   ]
  },
  {
   "cell_type": "code",
   "execution_count": 62,
   "id": "79832d87-445f-4e75-89af-d37a3c47140a",
   "metadata": {},
   "outputs": [
    {
     "data": {
      "text/plain": [
       "1    0.501728\n",
       "0    0.498272\n",
       "Name: subreddit, dtype: float64"
      ]
     },
     "execution_count": 62,
     "metadata": {},
     "output_type": "execute_result"
    }
   ],
   "source": [
    "df['subreddit'].value_counts(normalize = True)"
   ]
  }
 ],
 "metadata": {
  "kernelspec": {
   "display_name": "Python 3",
   "language": "python",
   "name": "python3"
  },
  "language_info": {
   "codemirror_mode": {
    "name": "ipython",
    "version": 3
   },
   "file_extension": ".py",
   "mimetype": "text/x-python",
   "name": "python",
   "nbconvert_exporter": "python",
   "pygments_lexer": "ipython3",
   "version": "3.8.8"
  }
 },
 "nbformat": 4,
 "nbformat_minor": 5
}
